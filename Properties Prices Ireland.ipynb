{
 "cells": [
  {
   "cell_type": "code",
   "execution_count": 1,
   "metadata": {},
   "outputs": [],
   "source": [
    "import pandas as pd\n",
    "import folium\n",
    "import datetime"
   ]
  },
  {
   "cell_type": "markdown",
   "metadata": {},
   "source": [
    "## Introduction\n",
    "This notebook presents different techniques on visualizing data using [folium](https://python-visualization.github.io/folium/) that allows to manipulate data in Python and then visualize it in a Leaflet map.\n",
    "\n",
    "Data that has been analysed is about property prices in Ireland and can be downloaded from [Property Price Register offical site](https://www.propertypriceregister.ie/)\n",
    "\n",
    "The aim was to use Folium Choropleth Map with a slider that would show how property prices have evolved month over month and what were the most expensive areas."
   ]
  },
  {
   "cell_type": "markdown",
   "metadata": {},
   "source": [
    "### Data Loading & Cleanup"
   ]
  },
  {
   "cell_type": "markdown",
   "metadata": {},
   "source": [
    "Save data obtained from Propert Price Registrar as 'PPR-ALL.csv' and load data into dataframe."
   ]
  },
  {
   "cell_type": "code",
   "execution_count": 28,
   "metadata": {},
   "outputs": [],
   "source": [
    "df = pd.read_csv(\"PPR-ALL.csv\", ',', encoding='utf-8')"
   ]
  },
  {
   "cell_type": "code",
   "execution_count": 29,
   "metadata": {},
   "outputs": [
    {
     "data": {
      "text/plain": [
       "(369860, 9)"
      ]
     },
     "execution_count": 29,
     "metadata": {},
     "output_type": "execute_result"
    }
   ],
   "source": [
    "df.shape"
   ]
  },
  {
   "cell_type": "code",
   "execution_count": 30,
   "metadata": {},
   "outputs": [
    {
     "data": {
      "text/plain": [
       "Index(['Date of Sale (dd/mm/yyyy)', 'Address', 'Postal Code', 'County',\n",
       "       'Price', 'Not Full Market Price', 'VAT Exclusive',\n",
       "       'Description of Property', 'Property Size Description'],\n",
       "      dtype='object')"
      ]
     },
     "execution_count": 30,
     "metadata": {},
     "output_type": "execute_result"
    }
   ],
   "source": [
    "df.columns"
   ]
  },
  {
   "cell_type": "markdown",
   "metadata": {},
   "source": [
    "Format price column"
   ]
  },
  {
   "cell_type": "code",
   "execution_count": 31,
   "metadata": {},
   "outputs": [
    {
     "data": {
      "text/plain": [
       "\"'\\\\ufffd'\""
      ]
     },
     "execution_count": 31,
     "metadata": {},
     "output_type": "execute_result"
    }
   ],
   "source": [
    "ascii(df['Price'][0][0])"
   ]
  },
  {
   "cell_type": "code",
   "execution_count": 32,
   "metadata": {},
   "outputs": [],
   "source": [
    "df['Price'] = df['Price'].apply(lambda x : float(x.replace(u'\\ufffd','').replace(',', '')))"
   ]
  },
  {
   "cell_type": "code",
   "execution_count": 6,
   "metadata": {},
   "outputs": [],
   "source": [
    "#df.dropna(subset = ['Price'], inplace = True)"
   ]
  },
  {
   "cell_type": "markdown",
   "metadata": {},
   "source": [
    "All properties are categorized via Description and Size. As for geolocation we only know the County of the property"
   ]
  },
  {
   "cell_type": "code",
   "execution_count": 33,
   "metadata": {},
   "outputs": [
    {
     "data": {
      "text/plain": [
       "array(['Second-Hand Dwelling house /Apartment',\n",
       "       'New Dwelling house /Apartment',\n",
       "       'Second-Hannd Dwelling house /Apartment',\n",
       "       'Teach/�ras�n C�naithe Ath�imhe', 'Teach/�ras�n C�naithe Nua',\n",
       "       'Teach/?ras?n C?naithe Nua'], dtype=object)"
      ]
     },
     "execution_count": 33,
     "metadata": {},
     "output_type": "execute_result"
    }
   ],
   "source": [
    "df['Description of Property'].unique()"
   ]
  },
  {
   "cell_type": "code",
   "execution_count": 37,
   "metadata": {},
   "outputs": [],
   "source": [
    "def fix_description(desc):\n",
    "    if 'Second-' in desc:\n",
    "        return \"second-hand house/apartment\"\n",
    "    elif 'Teach' in desc:\n",
    "        return 'Teach/'\n",
    "    else:\n",
    "        return desc"
   ]
  },
  {
   "cell_type": "markdown",
   "metadata": {},
   "source": [
    "Fix formatting of property description"
   ]
  },
  {
   "cell_type": "code",
   "execution_count": 38,
   "metadata": {},
   "outputs": [],
   "source": [
    "df['Description of Property'] = df['Description of Property'].apply(lambda x : fix_description(x))"
   ]
  },
  {
   "cell_type": "code",
   "execution_count": 34,
   "metadata": {},
   "outputs": [
    {
     "data": {
      "text/plain": [
       "array([nan,\n",
       "       'greater than or equal to 38 sq metres and less than 125 sq metres',\n",
       "       'greater than 125 sq metres', 'less than 38 sq metres',\n",
       "       'greater than or equal to 125 sq metres',\n",
       "       'n�os m� n� n� cothrom le 38 m�adar cearnach agus n�os l� n� 125 m�adar cearnach',\n",
       "       'n?os l? n? 38 m?adar cearnach'], dtype=object)"
      ]
     },
     "execution_count": 34,
     "metadata": {},
     "output_type": "execute_result"
    }
   ],
   "source": [
    "df['Property Size Description'].unique()"
   ]
  },
  {
   "cell_type": "code",
   "execution_count": 35,
   "metadata": {},
   "outputs": [
    {
     "data": {
      "text/plain": [
       "array(['Dublin', 'Laois', 'Meath', 'Kilkenny', 'Limerick', 'Carlow',\n",
       "       'Cork', 'Clare', 'Sligo', 'Cavan', 'Tipperary', 'Wicklow',\n",
       "       'Roscommon', 'Wexford', 'Mayo', 'Donegal', 'Longford', 'Galway',\n",
       "       'Offaly', 'Kildare', 'Waterford', 'Louth', 'Kerry', 'Westmeath',\n",
       "       'Monaghan', 'Leitrim'], dtype=object)"
      ]
     },
     "execution_count": 35,
     "metadata": {},
     "output_type": "execute_result"
    }
   ],
   "source": [
    "df['County'].unique()"
   ]
  },
  {
   "cell_type": "markdown",
   "metadata": {},
   "source": [
    "DataFrame.groupby(by=None, axis=0, level=None, as_index=True, sort=True, group_keys=True, squeeze=False, observed=False, **kwargs)[source]¶"
   ]
  },
  {
   "cell_type": "markdown",
   "metadata": {},
   "source": [
    "Format date column"
   ]
  },
  {
   "cell_type": "code",
   "execution_count": 39,
   "metadata": {},
   "outputs": [],
   "source": [
    "df['date'] = df['Date of Sale (dd/mm/yyyy)'].apply (lambda x:  datetime.datetime.strptime(x,'%d/%m/%Y'))"
   ]
  },
  {
   "cell_type": "code",
   "execution_count": 40,
   "metadata": {},
   "outputs": [],
   "source": [
    "df['year'] = df['date'].apply(lambda x: x.year)\n",
    "df['month'] = df['date'].apply(lambda x: x.month)"
   ]
  },
  {
   "cell_type": "code",
   "execution_count": 41,
   "metadata": {},
   "outputs": [
    {
     "data": {
      "text/html": [
       "<div>\n",
       "<style scoped>\n",
       "    .dataframe tbody tr th:only-of-type {\n",
       "        vertical-align: middle;\n",
       "    }\n",
       "\n",
       "    .dataframe tbody tr th {\n",
       "        vertical-align: top;\n",
       "    }\n",
       "\n",
       "    .dataframe thead th {\n",
       "        text-align: right;\n",
       "    }\n",
       "</style>\n",
       "<table border=\"1\" class=\"dataframe\">\n",
       "  <thead>\n",
       "    <tr style=\"text-align: right;\">\n",
       "      <th></th>\n",
       "      <th>Date of Sale (dd/mm/yyyy)</th>\n",
       "      <th>Address</th>\n",
       "      <th>Postal Code</th>\n",
       "      <th>County</th>\n",
       "      <th>Price</th>\n",
       "      <th>Not Full Market Price</th>\n",
       "      <th>VAT Exclusive</th>\n",
       "      <th>Description of Property</th>\n",
       "      <th>Property Size Description</th>\n",
       "      <th>date</th>\n",
       "      <th>year</th>\n",
       "      <th>month</th>\n",
       "    </tr>\n",
       "  </thead>\n",
       "  <tbody>\n",
       "    <tr>\n",
       "      <th>0</th>\n",
       "      <td>01/01/2010</td>\n",
       "      <td>5 Braemor Drive, Churchtown, Co.Dublin</td>\n",
       "      <td>NaN</td>\n",
       "      <td>Dublin</td>\n",
       "      <td>343000.0</td>\n",
       "      <td>No</td>\n",
       "      <td>No</td>\n",
       "      <td>second-hand house/apartment</td>\n",
       "      <td>NaN</td>\n",
       "      <td>2010-01-01</td>\n",
       "      <td>2010</td>\n",
       "      <td>1</td>\n",
       "    </tr>\n",
       "    <tr>\n",
       "      <th>1</th>\n",
       "      <td>03/01/2010</td>\n",
       "      <td>134 Ashewood Walk, Summerhill Lane, Portlaoise</td>\n",
       "      <td>NaN</td>\n",
       "      <td>Laois</td>\n",
       "      <td>185000.0</td>\n",
       "      <td>No</td>\n",
       "      <td>Yes</td>\n",
       "      <td>New Dwelling house /Apartment</td>\n",
       "      <td>greater than or equal to 38 sq metres and less...</td>\n",
       "      <td>2010-01-03</td>\n",
       "      <td>2010</td>\n",
       "      <td>1</td>\n",
       "    </tr>\n",
       "    <tr>\n",
       "      <th>2</th>\n",
       "      <td>04/01/2010</td>\n",
       "      <td>1 Meadow Avenue, Dundrum, Dublin 14</td>\n",
       "      <td>NaN</td>\n",
       "      <td>Dublin</td>\n",
       "      <td>438500.0</td>\n",
       "      <td>No</td>\n",
       "      <td>No</td>\n",
       "      <td>second-hand house/apartment</td>\n",
       "      <td>NaN</td>\n",
       "      <td>2010-01-04</td>\n",
       "      <td>2010</td>\n",
       "      <td>1</td>\n",
       "    </tr>\n",
       "    <tr>\n",
       "      <th>3</th>\n",
       "      <td>04/01/2010</td>\n",
       "      <td>1 The Haven, Mornington</td>\n",
       "      <td>NaN</td>\n",
       "      <td>Meath</td>\n",
       "      <td>400000.0</td>\n",
       "      <td>No</td>\n",
       "      <td>No</td>\n",
       "      <td>second-hand house/apartment</td>\n",
       "      <td>NaN</td>\n",
       "      <td>2010-01-04</td>\n",
       "      <td>2010</td>\n",
       "      <td>1</td>\n",
       "    </tr>\n",
       "    <tr>\n",
       "      <th>4</th>\n",
       "      <td>04/01/2010</td>\n",
       "      <td>11 Melville Heights, Kilkenny</td>\n",
       "      <td>NaN</td>\n",
       "      <td>Kilkenny</td>\n",
       "      <td>160000.0</td>\n",
       "      <td>No</td>\n",
       "      <td>No</td>\n",
       "      <td>second-hand house/apartment</td>\n",
       "      <td>NaN</td>\n",
       "      <td>2010-01-04</td>\n",
       "      <td>2010</td>\n",
       "      <td>1</td>\n",
       "    </tr>\n",
       "  </tbody>\n",
       "</table>\n",
       "</div>"
      ],
      "text/plain": [
       "  Date of Sale (dd/mm/yyyy)                                         Address  \\\n",
       "0                01/01/2010          5 Braemor Drive, Churchtown, Co.Dublin   \n",
       "1                03/01/2010  134 Ashewood Walk, Summerhill Lane, Portlaoise   \n",
       "2                04/01/2010             1 Meadow Avenue, Dundrum, Dublin 14   \n",
       "3                04/01/2010                         1 The Haven, Mornington   \n",
       "4                04/01/2010                   11 Melville Heights, Kilkenny   \n",
       "\n",
       "  Postal Code    County     Price Not Full Market Price VAT Exclusive  \\\n",
       "0         NaN    Dublin  343000.0                    No            No   \n",
       "1         NaN     Laois  185000.0                    No           Yes   \n",
       "2         NaN    Dublin  438500.0                    No            No   \n",
       "3         NaN     Meath  400000.0                    No            No   \n",
       "4         NaN  Kilkenny  160000.0                    No            No   \n",
       "\n",
       "         Description of Property  \\\n",
       "0    second-hand house/apartment   \n",
       "1  New Dwelling house /Apartment   \n",
       "2    second-hand house/apartment   \n",
       "3    second-hand house/apartment   \n",
       "4    second-hand house/apartment   \n",
       "\n",
       "                           Property Size Description       date  year  month  \n",
       "0                                                NaN 2010-01-01  2010      1  \n",
       "1  greater than or equal to 38 sq metres and less... 2010-01-03  2010      1  \n",
       "2                                                NaN 2010-01-04  2010      1  \n",
       "3                                                NaN 2010-01-04  2010      1  \n",
       "4                                                NaN 2010-01-04  2010      1  "
      ]
     },
     "execution_count": 41,
     "metadata": {},
     "output_type": "execute_result"
    }
   ],
   "source": [
    "df.head(5)"
   ]
  },
  {
   "cell_type": "markdown",
   "metadata": {},
   "source": [
    "### CHOROPLETH MAP BY COUNTY "
   ]
  },
  {
   "cell_type": "markdown",
   "metadata": {},
   "source": [
    "To make choropleth map with slider only price and county information is needed, prices will be aggregated by month"
   ]
  },
  {
   "cell_type": "code",
   "execution_count": 42,
   "metadata": {},
   "outputs": [],
   "source": [
    "by_county = df[['County', 'Price', 'year', 'month']]"
   ]
  },
  {
   "cell_type": "code",
   "execution_count": 43,
   "metadata": {},
   "outputs": [],
   "source": [
    "by_county = by_county.groupby(['County', 'year', 'month']).agg('Price').sum()"
   ]
  },
  {
   "cell_type": "code",
   "execution_count": 44,
   "metadata": {},
   "outputs": [
    {
     "data": {
      "text/plain": [
       "(333853.99, 983975061.2300009)"
      ]
     },
     "execution_count": 44,
     "metadata": {},
     "output_type": "execute_result"
    }
   ],
   "source": [
    "by_county.min(), by_county.max()"
   ]
  },
  {
   "cell_type": "markdown",
   "metadata": {},
   "source": [
    "Round to millions"
   ]
  },
  {
   "cell_type": "code",
   "execution_count": 30,
   "metadata": {},
   "outputs": [],
   "source": [
    "by_county = by_county.astype(int)/1000000 "
   ]
  },
  {
   "cell_type": "code",
   "execution_count": 31,
   "metadata": {},
   "outputs": [],
   "source": [
    "by_county = by_county.reset_index()"
   ]
  },
  {
   "cell_type": "code",
   "execution_count": 32,
   "metadata": {},
   "outputs": [
    {
     "data": {
      "text/plain": [
       "County    Wicklow\n",
       "year         2019\n",
       "month          12\n",
       "Price     983.975\n",
       "dtype: object"
      ]
     },
     "execution_count": 32,
     "metadata": {},
     "output_type": "execute_result"
    }
   ],
   "source": [
    "by_county.max()"
   ]
  },
  {
   "cell_type": "code",
   "execution_count": 33,
   "metadata": {},
   "outputs": [],
   "source": [
    "### check the quantiles by house price"
   ]
  },
  {
   "cell_type": "code",
   "execution_count": 34,
   "metadata": {},
   "outputs": [
    {
     "data": {
      "text/html": [
       "<div>\n",
       "<style scoped>\n",
       "    .dataframe tbody tr th:only-of-type {\n",
       "        vertical-align: middle;\n",
       "    }\n",
       "\n",
       "    .dataframe tbody tr th {\n",
       "        vertical-align: top;\n",
       "    }\n",
       "\n",
       "    .dataframe thead th {\n",
       "        text-align: right;\n",
       "    }\n",
       "</style>\n",
       "<table border=\"1\" class=\"dataframe\">\n",
       "  <thead>\n",
       "    <tr style=\"text-align: right;\">\n",
       "      <th></th>\n",
       "      <th>Price</th>\n",
       "      <th>Price</th>\n",
       "    </tr>\n",
       "  </thead>\n",
       "  <tbody>\n",
       "    <tr>\n",
       "      <th>0.1</th>\n",
       "      <td>2.543440</td>\n",
       "      <td>NaN</td>\n",
       "    </tr>\n",
       "    <tr>\n",
       "      <th>0.25</th>\n",
       "      <td>4.625162</td>\n",
       "      <td>NaN</td>\n",
       "    </tr>\n",
       "    <tr>\n",
       "      <th>0.5</th>\n",
       "      <td>9.216138</td>\n",
       "      <td>NaN</td>\n",
       "    </tr>\n",
       "    <tr>\n",
       "      <th>0.75</th>\n",
       "      <td>19.158440</td>\n",
       "      <td>NaN</td>\n",
       "    </tr>\n",
       "    <tr>\n",
       "      <th>1.0</th>\n",
       "      <td>983.975061</td>\n",
       "      <td>NaN</td>\n",
       "    </tr>\n",
       "    <tr>\n",
       "      <th>count</th>\n",
       "      <td>NaN</td>\n",
       "      <td>2964.0</td>\n",
       "    </tr>\n",
       "  </tbody>\n",
       "</table>\n",
       "</div>"
      ],
      "text/plain": [
       "            Price   Price\n",
       "0.1      2.543440     NaN\n",
       "0.25     4.625162     NaN\n",
       "0.5      9.216138     NaN\n",
       "0.75    19.158440     NaN\n",
       "1.0    983.975061     NaN\n",
       "count         NaN  2964.0"
      ]
     },
     "execution_count": 34,
     "metadata": {},
     "output_type": "execute_result"
    }
   ],
   "source": [
    "i = by_county['Price'].quantile([0.1, 0.25, 0.5, 0.75, 1])\n",
    "j = by_county['Price'].agg(['count'])\n",
    "\n",
    "pd.concat([i, j], 1)"
   ]
  },
  {
   "cell_type": "code",
   "execution_count": 24,
   "metadata": {},
   "outputs": [
    {
     "data": {
      "text/html": [
       "<div>\n",
       "<style scoped>\n",
       "    .dataframe tbody tr th:only-of-type {\n",
       "        vertical-align: middle;\n",
       "    }\n",
       "\n",
       "    .dataframe tbody tr th {\n",
       "        vertical-align: top;\n",
       "    }\n",
       "\n",
       "    .dataframe thead th {\n",
       "        text-align: right;\n",
       "    }\n",
       "</style>\n",
       "<table border=\"1\" class=\"dataframe\">\n",
       "  <thead>\n",
       "    <tr style=\"text-align: right;\">\n",
       "      <th></th>\n",
       "      <th>County</th>\n",
       "      <th>year</th>\n",
       "      <th>month</th>\n",
       "      <th>Price</th>\n",
       "    </tr>\n",
       "  </thead>\n",
       "  <tbody>\n",
       "    <tr>\n",
       "      <th>0</th>\n",
       "      <td>Carlow</td>\n",
       "      <td>2010</td>\n",
       "      <td>1</td>\n",
       "      <td>2.541683</td>\n",
       "    </tr>\n",
       "    <tr>\n",
       "      <th>1</th>\n",
       "      <td>Carlow</td>\n",
       "      <td>2010</td>\n",
       "      <td>2</td>\n",
       "      <td>2.126469</td>\n",
       "    </tr>\n",
       "    <tr>\n",
       "      <th>2</th>\n",
       "      <td>Carlow</td>\n",
       "      <td>2010</td>\n",
       "      <td>3</td>\n",
       "      <td>2.203867</td>\n",
       "    </tr>\n",
       "    <tr>\n",
       "      <th>3</th>\n",
       "      <td>Carlow</td>\n",
       "      <td>2010</td>\n",
       "      <td>4</td>\n",
       "      <td>2.585500</td>\n",
       "    </tr>\n",
       "    <tr>\n",
       "      <th>4</th>\n",
       "      <td>Carlow</td>\n",
       "      <td>2010</td>\n",
       "      <td>5</td>\n",
       "      <td>3.496886</td>\n",
       "    </tr>\n",
       "  </tbody>\n",
       "</table>\n",
       "</div>"
      ],
      "text/plain": [
       "   County  year  month     Price\n",
       "0  Carlow  2010      1  2.541683\n",
       "1  Carlow  2010      2  2.126469\n",
       "2  Carlow  2010      3  2.203867\n",
       "3  Carlow  2010      4  2.585500\n",
       "4  Carlow  2010      5  3.496886"
      ]
     },
     "execution_count": 24,
     "metadata": {},
     "output_type": "execute_result"
    }
   ],
   "source": [
    "by_county.head()"
   ]
  },
  {
   "cell_type": "code",
   "execution_count": 35,
   "metadata": {},
   "outputs": [],
   "source": [
    "test = by_county[(by_county['year'] == 2010) &(by_county['month'] == 1)]\n",
    "test2 = by_county[(by_county['year'] == 2010) &(by_county['month'] == 2)]"
   ]
  },
  {
   "cell_type": "code",
   "execution_count": 36,
   "metadata": {},
   "outputs": [],
   "source": [
    "test = test[['County', 'Price']]\n",
    "test2 = test2[['County', 'Price']]"
   ]
  },
  {
   "cell_type": "code",
   "execution_count": 37,
   "metadata": {},
   "outputs": [],
   "source": [
    "test=test.reset_index()\n",
    "test2 = test2.reset_index()"
   ]
  },
  {
   "cell_type": "code",
   "execution_count": 38,
   "metadata": {},
   "outputs": [
    {
     "data": {
      "text/html": [
       "<div>\n",
       "<style scoped>\n",
       "    .dataframe tbody tr th:only-of-type {\n",
       "        vertical-align: middle;\n",
       "    }\n",
       "\n",
       "    .dataframe tbody tr th {\n",
       "        vertical-align: top;\n",
       "    }\n",
       "\n",
       "    .dataframe thead th {\n",
       "        text-align: right;\n",
       "    }\n",
       "</style>\n",
       "<table border=\"1\" class=\"dataframe\">\n",
       "  <thead>\n",
       "    <tr style=\"text-align: right;\">\n",
       "      <th></th>\n",
       "      <th>index</th>\n",
       "      <th>County</th>\n",
       "      <th>Price</th>\n",
       "    </tr>\n",
       "  </thead>\n",
       "  <tbody>\n",
       "    <tr>\n",
       "      <th>0</th>\n",
       "      <td>1</td>\n",
       "      <td>Carlow</td>\n",
       "      <td>2.126469</td>\n",
       "    </tr>\n",
       "    <tr>\n",
       "      <th>1</th>\n",
       "      <td>115</td>\n",
       "      <td>Cavan</td>\n",
       "      <td>3.297104</td>\n",
       "    </tr>\n",
       "    <tr>\n",
       "      <th>2</th>\n",
       "      <td>229</td>\n",
       "      <td>Clare</td>\n",
       "      <td>6.037850</td>\n",
       "    </tr>\n",
       "    <tr>\n",
       "      <th>3</th>\n",
       "      <td>343</td>\n",
       "      <td>Cork</td>\n",
       "      <td>42.713664</td>\n",
       "    </tr>\n",
       "    <tr>\n",
       "      <th>4</th>\n",
       "      <td>457</td>\n",
       "      <td>Donegal</td>\n",
       "      <td>5.872675</td>\n",
       "    </tr>\n",
       "  </tbody>\n",
       "</table>\n",
       "</div>"
      ],
      "text/plain": [
       "   index   County      Price\n",
       "0      1   Carlow   2.126469\n",
       "1    115    Cavan   3.297104\n",
       "2    229    Clare   6.037850\n",
       "3    343     Cork  42.713664\n",
       "4    457  Donegal   5.872675"
      ]
     },
     "execution_count": 38,
     "metadata": {},
     "output_type": "execute_result"
    }
   ],
   "source": [
    "test2.head()"
   ]
  },
  {
   "cell_type": "code",
   "execution_count": 39,
   "metadata": {},
   "outputs": [],
   "source": [
    "bins = list(test['Price'].quantile([0, 0.25, 0.5, 0.75, 1]))"
   ]
  },
  {
   "cell_type": "code",
   "execution_count": 40,
   "metadata": {},
   "outputs": [],
   "source": [
    "#bins = list(test['Price'].quantile([0, 0.1, 0.2, 0.3, 0.4, 0.5, 0.6, 0.7,0.8, 0.9,1]))"
   ]
  },
  {
   "cell_type": "code",
   "execution_count": 41,
   "metadata": {},
   "outputs": [
    {
     "data": {
      "text/plain": [
       "[0.601469, 2.42559725, 4.9281310000000005, 7.729165500000001, 137.715197]"
      ]
     },
     "execution_count": 41,
     "metadata": {},
     "output_type": "execute_result"
    }
   ],
   "source": [
    "bins"
   ]
  },
  {
   "cell_type": "code",
   "execution_count": 42,
   "metadata": {},
   "outputs": [
    {
     "data": {
      "text/plain": [
       "<folium.map.LayerControl at 0x7efefe1bdb00>"
      ]
     },
     "execution_count": 42,
     "metadata": {},
     "output_type": "execute_result"
    }
   ],
   "source": [
    "state_geo = f'ireland.json'\n",
    "\n",
    "m = folium.Map(location=[53.305494, -7.737649], zoom_start=6)\n",
    "\n",
    "folium.Choropleth(\n",
    "    geo_data=state_geo,\n",
    "    name='choropleth',\n",
    "    data=test,\n",
    "    columns=['County', 'Price'],\n",
    "    key_on='feature.properties.id',\n",
    "    fill_color='YlGn',\n",
    "    fill_opacity=0.7,\n",
    "    line_opacity=0.2,\n",
    "    nan_fill_color='yellow',\n",
    "    legend_name='Total property price in Mil',\n",
    "    bins = bins\n",
    ").add_to(m)\n",
    "\n",
    "folium.LayerControl().add_to(m)\n"
   ]
  },
  {
   "cell_type": "code",
   "execution_count": 43,
   "metadata": {
    "scrolled": true
   },
   "outputs": [
    {
     "data": {
      "text/html": [
       "<div style=\"width:100%;\"><div style=\"position:relative;width:100%;height:0;padding-bottom:60%;\"><iframe src=\"data:text/html;charset=utf-8;base64,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\" style=\"position:absolute;width:100%;height:100%;left:0;top:0;border:none !important;\" allowfullscreen webkitallowfullscreen mozallowfullscreen></iframe></div></div>"
      ],
      "text/plain": [
       "<folium.folium.Map at 0x7efed6eec6a0>"
      ]
     },
     "execution_count": 43,
     "metadata": {},
     "output_type": "execute_result"
    }
   ],
   "source": [
    "m"
   ]
  },
  {
   "cell_type": "markdown",
   "metadata": {},
   "source": [
    "## Choropleth with Time Slider"
   ]
  },
  {
   "cell_type": "markdown",
   "metadata": {},
   "source": [
    "adding time slider Example:\n",
    "    https://github.com/python-visualization/folium/blob/master/examples/TimeSliderChoropleth.ipynb"
   ]
  },
  {
   "cell_type": "code",
   "execution_count": 44,
   "metadata": {},
   "outputs": [
    {
     "data": {
      "text/plain": [
       "folium.plugins.time_slider_choropleth.TimeSliderChoropleth"
      ]
     },
     "execution_count": 44,
     "metadata": {},
     "output_type": "execute_result"
    }
   ],
   "source": [
    "from folium import plugins\n",
    "plugins.TimeSliderChoropleth"
   ]
  },
  {
   "cell_type": "raw",
   "metadata": {},
   "source": [
    "The class needs at least two arguments to be instantiated.\n",
    "\n",
    "A string-serielized geojson containing all the features (i.e., the areas)\n",
    "A dictionary with the following structure:\n",
    "styledict = {\n",
    "    '0': {\n",
    "        '2017-1-1': {'color': 'ffffff', 'opacity': 1}\n",
    "        '2017-1-2': {'color': 'fffff0', 'opacity': 1}\n",
    "        ...\n",
    "        },\n",
    "    ...,\n",
    "    'n': {\n",
    "        '2017-1-1': {'color': 'ffffff', 'opacity': 1}\n",
    "        '2017-1-2': {'color': 'fffff0', 'opacity': 1}\n",
    "        ...\n",
    "        }"
   ]
  },
  {
   "cell_type": "markdown",
   "metadata": {},
   "source": [
    "##### Creating styledictionary"
   ]
  },
  {
   "cell_type": "code",
   "execution_count": 45,
   "metadata": {},
   "outputs": [
    {
     "data": {
      "text/plain": [
       "Timestamp('2010-01-01 00:00:00')"
      ]
     },
     "execution_count": 45,
     "metadata": {},
     "output_type": "execute_result"
    }
   ],
   "source": [
    "df['date'].min()"
   ]
  },
  {
   "cell_type": "code",
   "execution_count": 46,
   "metadata": {},
   "outputs": [
    {
     "data": {
      "text/plain": [
       "Timestamp('2019-06-14 00:00:00')"
      ]
     },
     "execution_count": 46,
     "metadata": {},
     "output_type": "execute_result"
    }
   ],
   "source": [
    "df['date'].max()"
   ]
  },
  {
   "cell_type": "code",
   "execution_count": 47,
   "metadata": {},
   "outputs": [],
   "source": [
    "min_color, max_color = by_county['Price'].min(), by_county['Price'].max()"
   ]
  },
  {
   "cell_type": "code",
   "execution_count": 48,
   "metadata": {},
   "outputs": [
    {
     "data": {
      "text/plain": [
       "(0.333853, 983.975061)"
      ]
     },
     "execution_count": 48,
     "metadata": {},
     "output_type": "execute_result"
    }
   ],
   "source": [
    "min_color, max_color"
   ]
  },
  {
   "cell_type": "code",
   "execution_count": 49,
   "metadata": {},
   "outputs": [],
   "source": [
    "from branca.colormap import linear\n",
    "\n",
    "\n",
    "cmap = linear.PuRd_09.scale(0, 100)\n"
   ]
  },
  {
   "cell_type": "code",
   "execution_count": 50,
   "metadata": {},
   "outputs": [],
   "source": [
    "data = by_county.copy()"
   ]
  },
  {
   "cell_type": "code",
   "execution_count": 51,
   "metadata": {},
   "outputs": [
    {
     "data": {
      "text/plain": [
       "Index(['County', 'year', 'month', 'Price'], dtype='object')"
      ]
     },
     "execution_count": 51,
     "metadata": {},
     "output_type": "execute_result"
    }
   ],
   "source": [
    "data.columns"
   ]
  },
  {
   "cell_type": "code",
   "execution_count": 53,
   "metadata": {},
   "outputs": [],
   "source": [
    "data['color'] = data['Price'].apply(cmap)"
   ]
  },
  {
   "cell_type": "code",
   "execution_count": 54,
   "metadata": {},
   "outputs": [
    {
     "data": {
      "text/plain": [
       "array(['Carlow', 'Cavan', 'Clare', 'Cork', 'Donegal', 'Dublin', 'Galway',\n",
       "       'Kerry', 'Kildare', 'Kilkenny', 'Laois', 'Leitrim', 'Limerick',\n",
       "       'Longford', 'Louth', 'Mayo', 'Meath', 'Monaghan', 'Offaly',\n",
       "       'Roscommon', 'Sligo', 'Tipperary', 'Waterford', 'Westmeath',\n",
       "       'Wexford', 'Wicklow'], dtype=object)"
      ]
     },
     "execution_count": 54,
     "metadata": {},
     "output_type": "execute_result"
    }
   ],
   "source": [
    "data['County'].unique()"
   ]
  },
  {
   "cell_type": "code",
   "execution_count": 55,
   "metadata": {},
   "outputs": [
    {
     "data": {
      "text/html": [
       "<div>\n",
       "<style scoped>\n",
       "    .dataframe tbody tr th:only-of-type {\n",
       "        vertical-align: middle;\n",
       "    }\n",
       "\n",
       "    .dataframe tbody tr th {\n",
       "        vertical-align: top;\n",
       "    }\n",
       "\n",
       "    .dataframe thead th {\n",
       "        text-align: right;\n",
       "    }\n",
       "</style>\n",
       "<table border=\"1\" class=\"dataframe\">\n",
       "  <thead>\n",
       "    <tr style=\"text-align: right;\">\n",
       "      <th></th>\n",
       "      <th>County</th>\n",
       "      <th>year</th>\n",
       "      <th>month</th>\n",
       "      <th>Price</th>\n",
       "      <th>color</th>\n",
       "    </tr>\n",
       "  </thead>\n",
       "  <tbody>\n",
       "    <tr>\n",
       "      <th>0</th>\n",
       "      <td>Carlow</td>\n",
       "      <td>2010</td>\n",
       "      <td>1</td>\n",
       "      <td>2.541683</td>\n",
       "      <td>#f4f1f7</td>\n",
       "    </tr>\n",
       "    <tr>\n",
       "      <th>1</th>\n",
       "      <td>Carlow</td>\n",
       "      <td>2010</td>\n",
       "      <td>2</td>\n",
       "      <td>2.126469</td>\n",
       "      <td>#f5f1f8</td>\n",
       "    </tr>\n",
       "    <tr>\n",
       "      <th>2</th>\n",
       "      <td>Carlow</td>\n",
       "      <td>2010</td>\n",
       "      <td>3</td>\n",
       "      <td>2.203867</td>\n",
       "      <td>#f5f1f8</td>\n",
       "    </tr>\n",
       "    <tr>\n",
       "      <th>3</th>\n",
       "      <td>Carlow</td>\n",
       "      <td>2010</td>\n",
       "      <td>4</td>\n",
       "      <td>2.585500</td>\n",
       "      <td>#f4f1f7</td>\n",
       "    </tr>\n",
       "    <tr>\n",
       "      <th>4</th>\n",
       "      <td>Carlow</td>\n",
       "      <td>2010</td>\n",
       "      <td>5</td>\n",
       "      <td>3.496886</td>\n",
       "      <td>#f3eff7</td>\n",
       "    </tr>\n",
       "  </tbody>\n",
       "</table>\n",
       "</div>"
      ],
      "text/plain": [
       "   County  year  month     Price    color\n",
       "0  Carlow  2010      1  2.541683  #f4f1f7\n",
       "1  Carlow  2010      2  2.126469  #f5f1f8\n",
       "2  Carlow  2010      3  2.203867  #f5f1f8\n",
       "3  Carlow  2010      4  2.585500  #f4f1f7\n",
       "4  Carlow  2010      5  3.496886  #f3eff7"
      ]
     },
     "execution_count": 55,
     "metadata": {},
     "output_type": "execute_result"
    }
   ],
   "source": [
    "data[data['County'] == 'Carlow'].head()"
   ]
  },
  {
   "cell_type": "code",
   "execution_count": 56,
   "metadata": {},
   "outputs": [
    {
     "name": "stderr",
     "output_type": "stream",
     "text": [
      "/home/magda/venv/pyvenv3/lib/python3.6/site-packages/ipykernel_launcher.py:5: SettingWithCopyWarning: \n",
      "A value is trying to be set on a copy of a slice from a DataFrame.\n",
      "Try using .loc[row_indexer,col_indexer] = value instead\n",
      "\n",
      "See the caveats in the documentation: http://pandas.pydata.org/pandas-docs/stable/indexing.html#indexing-view-versus-copy\n",
      "  \"\"\"\n",
      "/home/magda/venv/pyvenv3/lib/python3.6/site-packages/ipykernel_launcher.py:6: SettingWithCopyWarning: \n",
      "A value is trying to be set on a copy of a slice from a DataFrame.\n",
      "Try using .loc[row_indexer,col_indexer] = value instead\n",
      "\n",
      "See the caveats in the documentation: http://pandas.pydata.org/pandas-docs/stable/indexing.html#indexing-view-versus-copy\n",
      "  \n",
      "/home/magda/venv/pyvenv3/lib/python3.6/site-packages/ipykernel_launcher.py:7: SettingWithCopyWarning: \n",
      "A value is trying to be set on a copy of a slice from a DataFrame.\n",
      "Try using .loc[row_indexer,col_indexer] = value instead\n",
      "\n",
      "See the caveats in the documentation: http://pandas.pydata.org/pandas-docs/stable/indexing.html#indexing-view-versus-copy\n",
      "  import sys\n"
     ]
    }
   ],
   "source": [
    "styledata = {}\n",
    "for county in data['County'].unique():\n",
    "    county_data = data[data['County'] == county]\n",
    "    #county_data = county_data.reset_index()\n",
    "    county_data['epoch'] = county_data.apply(lambda x : int(datetime.datetime(x['year'], x['month'], 1).timestamp()), axis=1)\n",
    "    county_data['epoch']= county_data['epoch'].astype('U10')\n",
    "    county_data['opacity'] = 1\n",
    "    county_data = county_data[['epoch', 'color', 'opacity']]\n",
    "    county_data.set_index('epoch',inplace=True)\n",
    "    styledata[county] = county_data"
   ]
  },
  {
   "cell_type": "code",
   "execution_count": 57,
   "metadata": {},
   "outputs": [
    {
     "data": {
      "text/html": [
       "<div>\n",
       "<style scoped>\n",
       "    .dataframe tbody tr th:only-of-type {\n",
       "        vertical-align: middle;\n",
       "    }\n",
       "\n",
       "    .dataframe tbody tr th {\n",
       "        vertical-align: top;\n",
       "    }\n",
       "\n",
       "    .dataframe thead th {\n",
       "        text-align: right;\n",
       "    }\n",
       "</style>\n",
       "<table border=\"1\" class=\"dataframe\">\n",
       "  <thead>\n",
       "    <tr style=\"text-align: right;\">\n",
       "      <th></th>\n",
       "      <th>color</th>\n",
       "      <th>opacity</th>\n",
       "    </tr>\n",
       "    <tr>\n",
       "      <th>epoch</th>\n",
       "      <th></th>\n",
       "      <th></th>\n",
       "    </tr>\n",
       "  </thead>\n",
       "  <tbody>\n",
       "    <tr>\n",
       "      <th>1262300400</th>\n",
       "      <td>#f4f1f7</td>\n",
       "      <td>1</td>\n",
       "    </tr>\n",
       "    <tr>\n",
       "      <th>1264978800</th>\n",
       "      <td>#f5f1f8</td>\n",
       "      <td>1</td>\n",
       "    </tr>\n",
       "    <tr>\n",
       "      <th>1267398000</th>\n",
       "      <td>#f5f1f8</td>\n",
       "      <td>1</td>\n",
       "    </tr>\n",
       "    <tr>\n",
       "      <th>1270072800</th>\n",
       "      <td>#f4f1f7</td>\n",
       "      <td>1</td>\n",
       "    </tr>\n",
       "    <tr>\n",
       "      <th>1272664800</th>\n",
       "      <td>#f3eff7</td>\n",
       "      <td>1</td>\n",
       "    </tr>\n",
       "  </tbody>\n",
       "</table>\n",
       "</div>"
      ],
      "text/plain": [
       "              color  opacity\n",
       "epoch                       \n",
       "1262300400  #f4f1f7        1\n",
       "1264978800  #f5f1f8        1\n",
       "1267398000  #f5f1f8        1\n",
       "1270072800  #f4f1f7        1\n",
       "1272664800  #f3eff7        1"
      ]
     },
     "execution_count": 57,
     "metadata": {},
     "output_type": "execute_result"
    }
   ],
   "source": [
    "styledata['Carlow'].head()"
   ]
  },
  {
   "cell_type": "code",
   "execution_count": 58,
   "metadata": {},
   "outputs": [],
   "source": [
    "styledict = {\n",
    "    str(country): data.to_dict(orient='index') for\n",
    "    country, data in styledata.items()\n",
    "}"
   ]
  },
  {
   "cell_type": "code",
   "execution_count": 60,
   "metadata": {},
   "outputs": [],
   "source": [
    "styledict2 = {}\n",
    "styledict2['Carlow'] = styledict.get('Carlow')"
   ]
  },
  {
   "cell_type": "code",
   "execution_count": 61,
   "metadata": {},
   "outputs": [
    {
     "data": {
      "text/plain": [
       "{'Carlow': {'1262300400': {'color': '#f4f1f7', 'opacity': 1},\n",
       "  '1264978800': {'color': '#f5f1f8', 'opacity': 1},\n",
       "  '1267398000': {'color': '#f5f1f8', 'opacity': 1},\n",
       "  '1270072800': {'color': '#f4f1f7', 'opacity': 1},\n",
       "  '1272664800': {'color': '#f3eff7', 'opacity': 1},\n",
       "  '1275343200': {'color': '#f5f2f8', 'opacity': 1},\n",
       "  '1277935200': {'color': '#f3eff7', 'opacity': 1},\n",
       "  '1280613600': {'color': '#f2eef6', 'opacity': 1},\n",
       "  '1283292000': {'color': '#f2eef6', 'opacity': 1},\n",
       "  '1285884000': {'color': '#f3f0f7', 'opacity': 1},\n",
       "  '1288566000': {'color': '#f0ecf5', 'opacity': 1},\n",
       "  '1291158000': {'color': '#f1edf5', 'opacity': 1},\n",
       "  '1293836400': {'color': '#f5f1f8', 'opacity': 1},\n",
       "  '1296514800': {'color': '#f4f1f8', 'opacity': 1},\n",
       "  '1298934000': {'color': '#f5f1f8', 'opacity': 1},\n",
       "  '1301608800': {'color': '#f6f2f8', 'opacity': 1},\n",
       "  '1304200800': {'color': '#f5f2f8', 'opacity': 1},\n",
       "  '1306879200': {'color': '#f4f0f7', 'opacity': 1},\n",
       "  '1309471200': {'color': '#f4f1f8', 'opacity': 1},\n",
       "  '1312149600': {'color': '#f5f1f8', 'opacity': 1},\n",
       "  '1314828000': {'color': '#f5f2f8', 'opacity': 1},\n",
       "  '1317420000': {'color': '#f5f2f8', 'opacity': 1},\n",
       "  '1320102000': {'color': '#f4f0f7', 'opacity': 1},\n",
       "  '1322694000': {'color': '#f5f2f8', 'opacity': 1},\n",
       "  '1325372400': {'color': '#f6f3f9', 'opacity': 1},\n",
       "  '1328050800': {'color': '#f4f0f7', 'opacity': 1},\n",
       "  '1330556400': {'color': '#f6f3f9', 'opacity': 1},\n",
       "  '1333231200': {'color': '#f5f1f8', 'opacity': 1},\n",
       "  '1335823200': {'color': '#f4f1f8', 'opacity': 1},\n",
       "  '1338501600': {'color': '#f6f3f8', 'opacity': 1},\n",
       "  '1341093600': {'color': '#f3f0f7', 'opacity': 1},\n",
       "  '1343772000': {'color': '#f3eff7', 'opacity': 1},\n",
       "  '1346450400': {'color': '#f5f1f8', 'opacity': 1},\n",
       "  '1349042400': {'color': '#f4f0f7', 'opacity': 1},\n",
       "  '1351724400': {'color': '#f2eef6', 'opacity': 1},\n",
       "  '1354316400': {'color': '#f3eff7', 'opacity': 1},\n",
       "  '1356994800': {'color': '#f6f2f8', 'opacity': 1},\n",
       "  '1359673200': {'color': '#f5f1f8', 'opacity': 1},\n",
       "  '1362092400': {'color': '#f3eff7', 'opacity': 1},\n",
       "  '1364767200': {'color': '#f5f1f8', 'opacity': 1},\n",
       "  '1367359200': {'color': '#f2eef6', 'opacity': 1},\n",
       "  '1370037600': {'color': '#f2eef6', 'opacity': 1},\n",
       "  '1372629600': {'color': '#f3f0f7', 'opacity': 1},\n",
       "  '1375308000': {'color': '#f5f1f8', 'opacity': 1},\n",
       "  '1377986400': {'color': '#f3eff7', 'opacity': 1},\n",
       "  '1380578400': {'color': '#f3eff6', 'opacity': 1},\n",
       "  '1383260400': {'color': '#f1edf5', 'opacity': 1},\n",
       "  '1385852400': {'color': '#efeaf4', 'opacity': 1},\n",
       "  '1388530800': {'color': '#f3f0f7', 'opacity': 1},\n",
       "  '1391209200': {'color': '#f6f2f8', 'opacity': 1},\n",
       "  '1393628400': {'color': '#f4f1f8', 'opacity': 1},\n",
       "  '1396303200': {'color': '#f2eef6', 'opacity': 1},\n",
       "  '1398895200': {'color': '#f5f2f8', 'opacity': 1},\n",
       "  '1401573600': {'color': '#f3f0f7', 'opacity': 1},\n",
       "  '1404165600': {'color': '#f0ebf5', 'opacity': 1},\n",
       "  '1406844000': {'color': '#f3f0f7', 'opacity': 1},\n",
       "  '1409522400': {'color': '#f1edf6', 'opacity': 1},\n",
       "  '1412114400': {'color': '#f1edf5', 'opacity': 1},\n",
       "  '1414796400': {'color': '#f2eef6', 'opacity': 1},\n",
       "  '1417388400': {'color': '#ebe5f2', 'opacity': 1},\n",
       "  '1420066800': {'color': '#f2eef6', 'opacity': 1},\n",
       "  '1422745200': {'color': '#f1edf6', 'opacity': 1},\n",
       "  '1425164400': {'color': '#f1edf5', 'opacity': 1},\n",
       "  '1427839200': {'color': '#f2edf6', 'opacity': 1},\n",
       "  '1430431200': {'color': '#f3eff7', 'opacity': 1},\n",
       "  '1433109600': {'color': '#f1edf5', 'opacity': 1},\n",
       "  '1435701600': {'color': '#f0ebf5', 'opacity': 1},\n",
       "  '1438380000': {'color': '#f1edf6', 'opacity': 1},\n",
       "  '1441058400': {'color': '#efebf4', 'opacity': 1},\n",
       "  '1443650400': {'color': '#ede8f3', 'opacity': 1},\n",
       "  '1446332400': {'color': '#efeaf4', 'opacity': 1},\n",
       "  '1448924400': {'color': '#ede8f3', 'opacity': 1},\n",
       "  '1451602800': {'color': '#f3eff6', 'opacity': 1},\n",
       "  '1454281200': {'color': '#f0ecf5', 'opacity': 1},\n",
       "  '1456786800': {'color': '#f1ecf5', 'opacity': 1},\n",
       "  '1459461600': {'color': '#f4f0f7', 'opacity': 1},\n",
       "  '1462053600': {'color': '#f0ecf5', 'opacity': 1},\n",
       "  '1464732000': {'color': '#f0ecf5', 'opacity': 1},\n",
       "  '1467324000': {'color': '#efebf4', 'opacity': 1},\n",
       "  '1470002400': {'color': '#efeaf4', 'opacity': 1},\n",
       "  '1472680800': {'color': '#ede9f3', 'opacity': 1},\n",
       "  '1475272800': {'color': '#ede8f3', 'opacity': 1},\n",
       "  '1477954800': {'color': '#eee9f4', 'opacity': 1},\n",
       "  '1480546800': {'color': '#ece7f2', 'opacity': 1},\n",
       "  '1483225200': {'color': '#f3eff6', 'opacity': 1},\n",
       "  '1485903600': {'color': '#efebf4', 'opacity': 1},\n",
       "  '1488322800': {'color': '#f1ecf5', 'opacity': 1},\n",
       "  '1490997600': {'color': '#f1ecf5', 'opacity': 1},\n",
       "  '1493589600': {'color': '#eee9f4', 'opacity': 1},\n",
       "  '1496268000': {'color': '#efeaf4', 'opacity': 1},\n",
       "  '1498860000': {'color': '#efebf4', 'opacity': 1},\n",
       "  '1501538400': {'color': '#efeaf4', 'opacity': 1},\n",
       "  '1504216800': {'color': '#efeaf4', 'opacity': 1},\n",
       "  '1506808800': {'color': '#efebf4', 'opacity': 1},\n",
       "  '1509490800': {'color': '#eee9f4', 'opacity': 1},\n",
       "  '1512082800': {'color': '#eae5f1', 'opacity': 1},\n",
       "  '1514761200': {'color': '#efebf4', 'opacity': 1},\n",
       "  '1517439600': {'color': '#eee9f3', 'opacity': 1},\n",
       "  '1519858800': {'color': '#ece7f2', 'opacity': 1},\n",
       "  '1522533600': {'color': '#ebe6f2', 'opacity': 1},\n",
       "  '1525125600': {'color': '#ece7f2', 'opacity': 1},\n",
       "  '1527804000': {'color': '#f0ebf5', 'opacity': 1},\n",
       "  '1530396000': {'color': '#eae4f1', 'opacity': 1},\n",
       "  '1533074400': {'color': '#e8e2f0', 'opacity': 1},\n",
       "  '1535752800': {'color': '#ede8f3', 'opacity': 1},\n",
       "  '1538344800': {'color': '#e7e1ef', 'opacity': 1},\n",
       "  '1541026800': {'color': '#ebe6f2', 'opacity': 1},\n",
       "  '1543618800': {'color': '#e1d4e8', 'opacity': 1},\n",
       "  '1546297200': {'color': '#f0ecf5', 'opacity': 1},\n",
       "  '1548975600': {'color': '#ece7f3', 'opacity': 1},\n",
       "  '1551394800': {'color': '#eee9f3', 'opacity': 1},\n",
       "  '1554069600': {'color': '#ede8f3', 'opacity': 1},\n",
       "  '1556661600': {'color': '#ebe6f2', 'opacity': 1},\n",
       "  '1559340000': {'color': '#f5f1f8', 'opacity': 1}}}"
      ]
     },
     "execution_count": 61,
     "metadata": {},
     "output_type": "execute_result"
    }
   ],
   "source": [
    "styledict2"
   ]
  },
  {
   "cell_type": "code",
   "execution_count": 62,
   "metadata": {},
   "outputs": [],
   "source": [
    "import json\n",
    "with open('ireland.json') as json_file:\n",
    "    geo_data = json.load(json_file)"
   ]
  },
  {
   "cell_type": "code",
   "execution_count": 63,
   "metadata": {},
   "outputs": [],
   "source": [
    "for county in geo_data['features']:\n",
    "    county['id'] = county['properties']['id']"
   ]
  },
  {
   "cell_type": "code",
   "execution_count": 64,
   "metadata": {},
   "outputs": [],
   "source": [
    "#geo_data['features'] = [geo_data['features'][0]]"
   ]
  },
  {
   "cell_type": "code",
   "execution_count": 65,
   "metadata": {},
   "outputs": [
    {
     "data": {
      "text/plain": [
       "[{'geometry': {'coordinates': [[[-6.592415, 52.708085],\n",
       "     [-6.614788, 52.654218],\n",
       "     [-6.71789, 52.633128],\n",
       "     [-6.810019, 52.481218],\n",
       "     [-6.916185, 52.446304],\n",
       "     [-6.914688, 52.590519],\n",
       "     [-6.975609, 52.653791],\n",
       "     [-6.952951, 52.705377],\n",
       "     [-7.090468, 52.732311],\n",
       "     [-7.072441, 52.797934],\n",
       "     [-7.065957, 52.822872],\n",
       "     [-6.915828, 52.856717],\n",
       "     [-6.735489, 52.884007],\n",
       "     [-6.712332, 52.924335],\n",
       "     [-6.463234, 52.893982],\n",
       "     [-6.51247, 52.826791],\n",
       "     [-6.631176, 52.831494],\n",
       "     [-6.592415, 52.708085]]],\n",
       "   'type': 'Polygon'},\n",
       "  'id': 'Carlow',\n",
       "  'properties': {'id': 'Carlow'},\n",
       "  'type': 'Feature'},\n",
       " {'geometry': {'coordinates': [[[-7.311848, 54.114105],\n",
       "     [-7.188226, 54.079548],\n",
       "     [-7.03596, 54.08653],\n",
       "     [-6.753231, 53.901916],\n",
       "     [-6.753302, 53.900348],\n",
       "     [-6.779095, 53.873842],\n",
       "     [-6.942976, 53.874982],\n",
       "     [-6.95573, 53.766893],\n",
       "     [-7.275153, 53.783851],\n",
       "     [-7.28235, 53.795394],\n",
       "     [-7.394715, 53.781713],\n",
       "     [-7.47181, 53.835936],\n",
       "     [-7.577762, 53.872702],\n",
       "     [-7.606476, 53.937257],\n",
       "     [-7.604552, 54.00516],\n",
       "     [-7.760239, 54.105127],\n",
       "     [-7.853223, 54.098144],\n",
       "     [-8.03456, 54.238796],\n",
       "     [-7.952976, 54.306628],\n",
       "     [-7.87809, 54.289172],\n",
       "     [-7.820589, 54.19918],\n",
       "     [-7.696967, 54.202529],\n",
       "     [-7.554248, 54.127999],\n",
       "     [-7.414737, 54.1508],\n",
       "     [-7.311848, 54.114105]]],\n",
       "   'type': 'Polygon'},\n",
       "  'id': 'Cavan',\n",
       "  'properties': {'id': 'Cavan'},\n",
       "  'type': 'Feature'},\n",
       " {'geometry': {'coordinates': [[[-9.01442, 53.143721],\n",
       "     [-8.995325, 53.094486],\n",
       "     [-8.898707, 53.061852],\n",
       "     [-8.825673, 52.973357],\n",
       "     [-8.610278, 53.039336],\n",
       "     [-8.448392, 52.981622],\n",
       "     [-8.301399, 53.004138],\n",
       "     [-8.315365, 52.923338],\n",
       "     [-8.415403, 52.895906],\n",
       "     [-8.486797, 52.717419],\n",
       "     [-8.542089, 52.683432],\n",
       "     [-8.736394, 52.676235],\n",
       "     [-8.86251, 52.697896],\n",
       "     [-8.966396, 52.683717],\n",
       "     [-8.941957, 52.735161],\n",
       "     [-9.043064, 52.749839],\n",
       "     [-9.077478, 52.671817],\n",
       "     [-9.162482, 52.61845],\n",
       "     [-9.417494, 52.602062],\n",
       "     [-9.546959, 52.639326],\n",
       "     [-9.700864, 52.612108],\n",
       "     [-9.696375, 52.582325],\n",
       "     [-9.939203, 52.55817],\n",
       "     [-9.650845, 52.677945],\n",
       "     [-9.613081, 52.742927],\n",
       "     [-9.4958, 52.750694],\n",
       "     [-9.446422, 52.877095],\n",
       "     [-9.347524, 52.929893],\n",
       "     [-9.47642, 52.941507],\n",
       "     [-9.392484, 53.007914],\n",
       "     [-9.282471, 53.145146],\n",
       "     [-9.152507, 53.119566],\n",
       "     [-9.127497, 53.157615],\n",
       "     [-9.01442, 53.143721]]],\n",
       "   'type': 'Polygon'},\n",
       "  'id': 'Clare',\n",
       "  'properties': {'id': 'Clare'},\n",
       "  'type': 'Feature'},\n",
       " {'geometry': {'coordinates': [[[-8.16032, 52.302731],\n",
       "     [-8.088569, 52.215518],\n",
       "     [-8.137519, 52.159086],\n",
       "     [-7.927468, 51.990147],\n",
       "     [-7.849731, 51.978747],\n",
       "     [-7.904168, 51.911271],\n",
       "     [-7.865834, 51.880134],\n",
       "     [-7.997508, 51.860682],\n",
       "     [-8.001356, 51.825127],\n",
       "     [-8.170295, 51.7843],\n",
       "     [-8.264704, 51.815152],\n",
       "     [-8.202501, 51.874006],\n",
       "     [-8.319711, 51.84237],\n",
       "     [-8.273041, 51.798194],\n",
       "     [-8.339163, 51.716254],\n",
       "     [-8.563037, 51.639302],\n",
       "     [-8.658587, 51.634029],\n",
       "     [-8.706397, 51.570686],\n",
       "     [-8.867498, 51.576243],\n",
       "     [-9.107476, 51.53734],\n",
       "     [-9.227536, 51.479839],\n",
       "     [-9.535274, 51.529003],\n",
       "     [-9.644717, 51.520382],\n",
       "     [-9.773613, 51.446564],\n",
       "     [-9.838025, 51.483188],\n",
       "     [-9.653624, 51.542897],\n",
       "     [-9.539193, 51.612083],\n",
       "     [-9.85085, 51.542897],\n",
       "     [-9.444142, 51.692384],\n",
       "     [-9.451909, 51.731502],\n",
       "     [-9.63973, 51.675426],\n",
       "     [-9.906925, 51.652056],\n",
       "     [-9.935284, 51.614292],\n",
       "     [-10.166355, 51.580447],\n",
       "     [-10.055843, 51.632105],\n",
       "     [-10.097525, 51.671223],\n",
       "     [-9.974188, 51.685402],\n",
       "     [-10.004755, 51.719318],\n",
       "     [-9.908279, 51.7496],\n",
       "     [-9.856336, 51.719175],\n",
       "     [-9.727869, 51.792636],\n",
       "     [-9.595054, 51.796698],\n",
       "     [-9.330922, 51.890181],\n",
       "     [-9.305343, 51.970553],\n",
       "     [-9.153718, 52.007676],\n",
       "     [-9.229317, 52.18089],\n",
       "     [-9.294513, 52.237036],\n",
       "     [-9.234589, 52.308431],\n",
       "     [-9.132414, 52.3385],\n",
       "     [-8.961836, 52.321185],\n",
       "     [-8.842702, 52.37833],\n",
       "     [-8.640631, 52.36016],\n",
       "     [-8.519502, 52.284704],\n",
       "     [-8.341799, 52.321969],\n",
       "     [-8.16032, 52.302731]]],\n",
       "   'type': 'Polygon'},\n",
       "  'id': 'Cork',\n",
       "  'properties': {'id': 'Cork'},\n",
       "  'type': 'Feature'},\n",
       " {'geometry': {'coordinates': [[[[-8.541947, 55.023711],\n",
       "      [-8.48637, 54.973478],\n",
       "      [-8.569735, 54.975687],\n",
       "      [-8.541947, 55.023711]]],\n",
       "    [[[-8.161674, 54.457683],\n",
       "      [-8.282019, 54.479843],\n",
       "      [-8.223093, 54.572114],\n",
       "      [-8.109161, 54.612657],\n",
       "      [-8.115787, 54.649922],\n",
       "      [-8.29919, 54.600971],\n",
       "      [-8.288075, 54.646502],\n",
       "      [-8.46307, 54.605175],\n",
       "      [-8.586978, 54.605674],\n",
       "      [-8.793609, 54.659042],\n",
       "      [-8.807504, 54.697661],\n",
       "      [-8.6531, 54.775682],\n",
       "      [-8.434142, 54.755446],\n",
       "      [-8.568595, 54.825701],\n",
       "      [-8.384194, 54.882631],\n",
       "      [-8.460292, 54.918756],\n",
       "      [-8.462999, 55.002691],\n",
       "      [-8.348639, 55.03903],\n",
       "      [-8.286365, 55.159945],\n",
       "      [-8.15975, 55.14655],\n",
       "      [-8.026366, 55.173483],\n",
       "      [-7.981405, 55.227635],\n",
       "      [-7.873601, 55.202055],\n",
       "      [-7.631913, 55.278224],\n",
       "      [-7.61752, 55.191225],\n",
       "      [-7.517482, 55.122609],\n",
       "      [-7.633623, 55.057698],\n",
       "      [-7.559165, 55.034327],\n",
       "      [-7.680864, 54.951817],\n",
       "      [-7.472522, 55.046511],\n",
       "      [-7.526959, 55.059052],\n",
       "      [-7.462476, 55.137358],\n",
       "      [-7.555816, 55.197067],\n",
       "      [-7.528028, 55.28599],\n",
       "      [-7.428631, 55.279577],\n",
       "      [-7.348116, 55.357884],\n",
       "      [-7.19471, 55.348193],\n",
       "      [-7.153597, 55.294825],\n",
       "      [-6.920745, 55.237111],\n",
       "      [-7.158585, 55.148758],\n",
       "      [-7.273871, 55.056772],\n",
       "      [-7.353103, 55.048649],\n",
       "      [-7.443024, 54.934432],\n",
       "      [-7.457987, 54.857907],\n",
       "      [-7.552467, 54.791714],\n",
       "      [-7.537362, 54.744758],\n",
       "      [-7.648658, 54.749532],\n",
       "      [-7.750619, 54.705498],\n",
       "      [-7.834412, 54.738559],\n",
       "      [-7.925259, 54.702292],\n",
       "      [-7.855289, 54.634674],\n",
       "      [-7.710647, 54.630327],\n",
       "      [-7.829211, 54.544682],\n",
       "      [-8.00328, 54.546107],\n",
       "      [-8.052729, 54.489675],\n",
       "      [-8.161674, 54.457683]]]],\n",
       "   'type': 'MultiPolygon'},\n",
       "  'id': 'Donegal',\n",
       "  'properties': {'id': 'Donegal'},\n",
       "  'type': 'Feature'},\n",
       " {'geometry': {'coordinates': [[[-6.105263, 53.219391],\n",
       "     [-6.347948, 53.200936],\n",
       "     [-6.464161, 53.228939],\n",
       "     [-6.535199, 53.255302],\n",
       "     [-6.495512, 53.384126],\n",
       "     [-6.453473, 53.376858],\n",
       "     [-6.334767, 53.452528],\n",
       "     [-6.320516, 53.495493],\n",
       "     [-6.408085, 53.563468],\n",
       "     [-6.291089, 53.579998],\n",
       "     [-6.213638, 53.635504],\n",
       "     [-6.098637, 53.585128],\n",
       "     [-6.075836, 53.519006],\n",
       "     [-6.121936, 53.388757],\n",
       "     [-6.229171, 53.36047],\n",
       "     [-6.100276, 53.282877],\n",
       "     [-6.105263, 53.219391]]],\n",
       "   'type': 'Polygon'},\n",
       "  'id': 'Dublin',\n",
       "  'properties': {'id': 'Dublin'},\n",
       "  'type': 'Feature'},\n",
       " {'geometry': {'coordinates': [[[[-9.780809, 53.152057],\n",
       "      [-9.654194, 53.131822],\n",
       "      [-9.654194, 53.0885],\n",
       "      [-9.830258, 53.138163],\n",
       "      [-9.780809, 53.152057]]],\n",
       "    [[[-9.630823, 53.320711],\n",
       "      [-9.648066, 53.227371],\n",
       "      [-9.744185, 53.235138],\n",
       "      [-9.630823, 53.320711]]],\n",
       "    [[[-8.020095, 53.261501],\n",
       "      [-7.956538, 53.216256],\n",
       "      [-8.068404, 53.175642],\n",
       "      [-8.301399, 53.004138],\n",
       "      [-8.448392, 52.981622],\n",
       "      [-8.610278, 53.039336],\n",
       "      [-8.825673, 52.973357],\n",
       "      [-8.898707, 53.061852],\n",
       "      [-8.995325, 53.094486],\n",
       "      [-9.01442, 53.143721],\n",
       "      [-8.903053, 53.221528],\n",
       "      [-9.05197, 53.220175],\n",
       "      [-8.936399, 53.271547],\n",
       "      [-9.525869, 53.220958],\n",
       "      [-9.622487, 53.326269],\n",
       "      [-9.550807, 53.342372],\n",
       "      [-9.649135, 53.387119],\n",
       "      [-9.774753, 53.291498],\n",
       "      [-9.908065, 53.328763],\n",
       "      [-10.071946, 53.420678],\n",
       "      [-10.198062, 53.405145],\n",
       "      [-10.093036, 53.467063],\n",
       "      [-10.1308, 53.574868],\n",
       "      [-10.01416, 53.567885],\n",
       "      [-10.056413, 53.611492],\n",
       "      [-9.669727, 53.614912],\n",
       "      [-9.610587, 53.632725],\n",
       "      [-9.409727, 53.541095],\n",
       "      [-9.265798, 53.544301],\n",
       "      [-9.203239, 53.487442],\n",
       "      [-9.117023, 53.4868],\n",
       "      [-8.983425, 53.621895],\n",
       "      [-8.814985, 53.663292],\n",
       "      [-8.664358, 53.670916],\n",
       "      [-8.611489, 53.709535],\n",
       "      [-8.438631, 53.68766],\n",
       "      [-8.263208, 53.516085],\n",
       "      [-8.242046, 53.36104],\n",
       "      [-8.152838, 53.328478],\n",
       "      [-8.129753, 53.262427],\n",
       "      [-8.020095, 53.261501]]]],\n",
       "   'type': 'MultiPolygon'},\n",
       "  'id': 'Galway',\n",
       "  'properties': {'id': 'Galway'},\n",
       "  'type': 'Feature'},\n",
       " {'geometry': {'coordinates': [[[[-10.349188, 51.935996],\n",
       "      [-10.286415, 51.921817],\n",
       "      [-10.430843, 51.880134],\n",
       "      [-10.349188, 51.935996]]],\n",
       "    [[[-9.328215, 52.572634],\n",
       "      [-9.303134, 52.51549],\n",
       "      [-9.339544, 52.373057],\n",
       "      [-9.234589, 52.308431],\n",
       "      [-9.294513, 52.237036],\n",
       "      [-9.229317, 52.18089],\n",
       "      [-9.153718, 52.007676],\n",
       "      [-9.305343, 51.970553],\n",
       "      [-9.330922, 51.890181],\n",
       "      [-9.595054, 51.796698],\n",
       "      [-9.727869, 51.792636],\n",
       "      [-9.856336, 51.719175],\n",
       "      [-9.908279, 51.7496],\n",
       "      [-9.863034, 51.748175],\n",
       "      [-9.745824, 51.849282],\n",
       "      [-10.125812, 51.736775],\n",
       "      [-10.228059, 51.781806],\n",
       "      [-10.208607, 51.844009],\n",
       "      [-10.34363, 51.782946],\n",
       "      [-10.335864, 51.845434],\n",
       "      [-10.408612, 51.878495],\n",
       "      [-10.252499, 51.904004],\n",
       "      [-10.32197, 51.952669],\n",
       "      [-10.258056, 51.991786],\n",
       "      [-9.916972, 52.066815],\n",
       "      [-9.889184, 52.111276],\n",
       "      [-9.753021, 52.156806],\n",
       "      [-9.985303, 52.143197],\n",
       "      [-10.193074, 52.106787],\n",
       "      [-10.287484, 52.140418],\n",
       "      [-10.452504, 52.096527],\n",
       "      [-10.475803, 52.176828],\n",
       "      [-10.361372, 52.235398],\n",
       "      [-10.17804, 52.291544],\n",
       "      [-10.181959, 52.231265],\n",
       "      [-10.026415, 52.271522],\n",
       "      [-9.955804, 52.232619],\n",
       "      [-9.736419, 52.256773],\n",
       "      [-9.876928, 52.274016],\n",
       "      [-9.833607, 52.385669],\n",
       "      [-9.94362, 52.422933],\n",
       "      [-9.828049, 52.434334],\n",
       "      [-9.687469, 52.482928],\n",
       "      [-9.620278, 52.581541],\n",
       "      [-9.364197, 52.591231],\n",
       "      [-9.328215, 52.572634]]]],\n",
       "   'type': 'MultiPolygon'},\n",
       "  'id': 'Kerry',\n",
       "  'properties': {'id': 'Kerry'},\n",
       "  'type': 'Feature'},\n",
       " {'geometry': {'coordinates': [[[-6.495512, 53.384126],\n",
       "     [-6.535199, 53.255302],\n",
       "     [-6.464161, 53.228939],\n",
       "     [-6.592771, 53.092704],\n",
       "     [-6.745464, 53.017747],\n",
       "     [-6.712332, 52.924335],\n",
       "     [-6.735489, 52.884007],\n",
       "     [-6.915828, 52.856717],\n",
       "     [-6.957939, 52.967443],\n",
       "     [-7.032896, 52.971932],\n",
       "     [-7.030687, 53.080235],\n",
       "     [-7.097237, 53.164598],\n",
       "     [-6.997626, 53.317006],\n",
       "     [-7.13614, 53.409563],\n",
       "     [-7.032112, 53.514019],\n",
       "     [-6.840586, 53.390539],\n",
       "     [-6.713757, 53.426378],\n",
       "     [-6.495512, 53.384126]]],\n",
       "   'type': 'Polygon'},\n",
       "  'id': 'Kildare',\n",
       "  'properties': {'id': 'Kildare'},\n",
       "  'type': 'Feature'},\n",
       " {'geometry': {'coordinates': [[[-7.072441, 52.797934],\n",
       "     [-7.090468, 52.732311],\n",
       "     [-6.952951, 52.705377],\n",
       "     [-6.975609, 52.653791],\n",
       "     [-6.914688, 52.590519],\n",
       "     [-6.916185, 52.446304],\n",
       "     [-6.975182, 52.291544],\n",
       "     [-7.191717, 52.251857],\n",
       "     [-7.338853, 52.342561],\n",
       "     [-7.40013, 52.455496],\n",
       "     [-7.386663, 52.502451],\n",
       "     [-7.454139, 52.640253],\n",
       "     [-7.64937, 52.790809],\n",
       "     [-7.559236, 52.834771],\n",
       "     [-7.414737, 52.792305],\n",
       "     [-7.284772, 52.865624],\n",
       "     [-7.181172, 52.893412],\n",
       "     [-7.065957, 52.822872],\n",
       "     [-7.072441, 52.797934]]],\n",
       "   'type': 'Polygon'},\n",
       "  'id': 'Kilkenny',\n",
       "  'properties': {'id': 'Kilkenny'},\n",
       "  'type': 'Feature'},\n",
       " {'geometry': {'coordinates': [[[-7.097237, 53.164598],\n",
       "     [-7.030687, 53.080235],\n",
       "     [-7.032896, 52.971932],\n",
       "     [-6.957939, 52.967443],\n",
       "     [-6.915828, 52.856717],\n",
       "     [-7.065957, 52.822872],\n",
       "     [-7.181172, 52.893412],\n",
       "     [-7.284772, 52.865624],\n",
       "     [-7.414737, 52.792305],\n",
       "     [-7.559236, 52.834771],\n",
       "     [-7.64937, 52.790809],\n",
       "     [-7.686564, 52.851444],\n",
       "     [-7.656923, 52.93937],\n",
       "     [-7.692264, 52.982335],\n",
       "     [-7.555246, 53.100115],\n",
       "     [-7.617948, 53.14479],\n",
       "     [-7.541708, 53.181271],\n",
       "     [-7.354813, 53.202647],\n",
       "     [-7.265606, 53.14023],\n",
       "     [-7.097237, 53.164598]]],\n",
       "   'type': 'Polygon'},\n",
       "  'id': 'Laois',\n",
       "  'properties': {'id': 'Laois'},\n",
       "  'type': 'Feature'},\n",
       " {'geometry': {'coordinates': [[[-8.282019, 54.479843],\n",
       "     [-8.161674, 54.457683],\n",
       "     [-7.952976, 54.306628],\n",
       "     [-8.03456, 54.238796],\n",
       "     [-7.853223, 54.098144],\n",
       "     [-7.760239, 54.105127],\n",
       "     [-7.604552, 54.00516],\n",
       "     [-7.606476, 53.937257],\n",
       "     [-7.663122, 53.937114],\n",
       "     [-7.82237, 53.819477],\n",
       "     [-7.899109, 53.815558],\n",
       "     [-8.000359, 53.926712],\n",
       "     [-8.100895, 53.953859],\n",
       "     [-8.040972, 54.077125],\n",
       "     [-8.133671, 54.101422],\n",
       "     [-8.170794, 54.102633],\n",
       "     [-8.333463, 54.1855],\n",
       "     [-8.310591, 54.272855],\n",
       "     [-8.377782, 54.348453],\n",
       "     [-8.373863, 54.468228],\n",
       "     [-8.282019, 54.479843]]],\n",
       "   'type': 'Polygon'},\n",
       "  'id': 'Leitrim',\n",
       "  'properties': {'id': 'Leitrim'},\n",
       "  'type': 'Feature'},\n",
       " {'geometry': {'coordinates': [[[-8.16032, 52.302731],\n",
       "     [-8.341799, 52.321969],\n",
       "     [-8.519502, 52.284704],\n",
       "     [-8.640631, 52.36016],\n",
       "     [-8.842702, 52.37833],\n",
       "     [-8.961836, 52.321185],\n",
       "     [-9.132414, 52.3385],\n",
       "     [-9.234589, 52.308431],\n",
       "     [-9.339544, 52.373057],\n",
       "     [-9.303134, 52.51549],\n",
       "     [-9.328215, 52.572634],\n",
       "     [-8.987487, 52.619305],\n",
       "     [-8.95806, 52.660702],\n",
       "     [-8.638066, 52.660702],\n",
       "     [-8.736394, 52.676235],\n",
       "     [-8.542089, 52.683432],\n",
       "     [-8.486797, 52.717419],\n",
       "     [-8.358258, 52.682648],\n",
       "     [-8.25708, 52.697682],\n",
       "     [-8.180698, 52.666545],\n",
       "     [-8.197941, 52.521333],\n",
       "     [-8.399157, 52.468464],\n",
       "     [-8.388968, 52.438751],\n",
       "     [-8.230361, 52.404265],\n",
       "     [-8.16032, 52.302731]]],\n",
       "   'type': 'Polygon'},\n",
       "  'id': 'Limerick',\n",
       "  'properties': {'id': 'Limerick'},\n",
       "  'type': 'Feature'},\n",
       " {'geometry': {'coordinates': [[[-7.47181, 53.835936],\n",
       "     [-7.394715, 53.781713],\n",
       "     [-7.390725, 53.735827],\n",
       "     [-7.591442, 53.647545],\n",
       "     [-7.658348, 53.531119],\n",
       "     [-7.846454, 53.538601],\n",
       "     [-7.95262, 53.51238],\n",
       "     [-8.025938, 53.607359],\n",
       "     [-7.978912, 53.694999],\n",
       "     [-7.887424, 53.772237],\n",
       "     [-7.899109, 53.815558],\n",
       "     [-7.82237, 53.819477],\n",
       "     [-7.663122, 53.937114],\n",
       "     [-7.606476, 53.937257],\n",
       "     [-7.577762, 53.872702],\n",
       "     [-7.47181, 53.835936]]],\n",
       "   'type': 'Polygon'},\n",
       "  'id': 'Longford',\n",
       "  'properties': {'id': 'Longford'},\n",
       "  'type': 'Feature'},\n",
       " {'geometry': {'coordinates': [[[-6.238576, 53.778721],\n",
       "     [-6.339042, 53.722788],\n",
       "     [-6.481475, 53.722788],\n",
       "     [-6.561562, 53.771453],\n",
       "     [-6.616427, 53.861516],\n",
       "     [-6.687038, 53.875481],\n",
       "     [-6.753302, 53.900348],\n",
       "     [-6.753231, 53.901916],\n",
       "     [-6.679699, 53.909469],\n",
       "     [-6.584434, 54.051902],\n",
       "     [-6.470146, 54.078835],\n",
       "     [-6.374739, 54.066366],\n",
       "     [-6.27976, 54.109901],\n",
       "     [-6.100846, 53.999603],\n",
       "     [-6.164688, 53.976802],\n",
       "     [-6.352508, 54.011502],\n",
       "     [-6.377518, 53.955711],\n",
       "     [-6.333627, 53.877049],\n",
       "     [-6.238576, 53.861801],\n",
       "     [-6.238576, 53.778721]]],\n",
       "   'type': 'Polygon'},\n",
       "  'id': 'Louth',\n",
       "  'properties': {'id': 'Louth'},\n",
       "  'type': 'Feature'},\n",
       " {'geometry': {'coordinates': [[[-9.138043, 54.130707],\n",
       "     [-8.963404, 54.145527],\n",
       "     [-9.027317, 54.030241],\n",
       "     [-8.913598, 54.017701],\n",
       "     [-8.835078, 53.972455],\n",
       "     [-8.661294, 54.025681],\n",
       "     [-8.590398, 53.968109],\n",
       "     [-8.682599, 53.958704],\n",
       "     [-8.608211, 53.885884],\n",
       "     [-8.690223, 53.874484],\n",
       "     [-8.696279, 53.722716],\n",
       "     [-8.814985, 53.663292],\n",
       "     [-8.983425, 53.621895],\n",
       "     [-9.117023, 53.4868],\n",
       "     [-9.203239, 53.487442],\n",
       "     [-9.265798, 53.544301],\n",
       "     [-9.409727, 53.541095],\n",
       "     [-9.610587, 53.632725],\n",
       "     [-9.669727, 53.614912],\n",
       "     [-9.774183, 53.600661],\n",
       "     [-9.915832, 53.656238],\n",
       "     [-9.912483, 53.752286],\n",
       "     [-9.651272, 53.800453],\n",
       "     [-9.554084, 53.889874],\n",
       "     [-9.764706, 53.900134],\n",
       "     [-9.905857, 53.861231],\n",
       "     [-10.066388, 53.971814],\n",
       "     [-10.259196, 53.973453],\n",
       "     [-10.189155, 54.015706],\n",
       "     [-10.100803, 54.000671],\n",
       "     [-9.974188, 54.030669],\n",
       "     [-9.966421, 53.951009],\n",
       "     [-9.838025, 53.960414],\n",
       "     [-9.993639, 54.102633],\n",
       "     [-9.899729, 54.117953],\n",
       "     [-10.012521, 54.226541],\n",
       "     [-10.010312, 54.181296],\n",
       "     [-10.129161, 54.096007],\n",
       "     [-10.055843, 54.218204],\n",
       "     [-10.109709, 54.238511],\n",
       "     [-9.995777, 54.309336],\n",
       "     [-9.880277, 54.257607],\n",
       "     [-9.805819, 54.344606],\n",
       "     [-9.382509, 54.294302],\n",
       "     [-9.341967, 54.327363],\n",
       "     [-9.211931, 54.285894],\n",
       "     [-9.224187, 54.217136],\n",
       "     [-9.159703, 54.201816],\n",
       "     [-9.138043, 54.130707]]],\n",
       "   'type': 'Polygon'},\n",
       "  'id': 'Mayo',\n",
       "  'properties': {'id': 'Mayo'},\n",
       "  'type': 'Feature'},\n",
       " {'geometry': {'coordinates': [[[-6.687038, 53.875481],\n",
       "     [-6.616427, 53.861516],\n",
       "     [-6.561562, 53.771453],\n",
       "     [-6.481475, 53.722788],\n",
       "     [-6.339042, 53.722788],\n",
       "     [-6.238576, 53.778721],\n",
       "     [-6.213638, 53.635504],\n",
       "     [-6.291089, 53.579998],\n",
       "     [-6.408085, 53.563468],\n",
       "     [-6.320516, 53.495493],\n",
       "     [-6.334767, 53.452528],\n",
       "     [-6.453473, 53.376858],\n",
       "     [-6.495512, 53.384126],\n",
       "     [-6.713757, 53.426378],\n",
       "     [-6.840586, 53.390539],\n",
       "     [-7.032112, 53.514019],\n",
       "     [-6.962926, 53.639494],\n",
       "     [-7.250928, 53.711387],\n",
       "     [-7.275153, 53.783851],\n",
       "     [-6.95573, 53.766893],\n",
       "     [-6.942976, 53.874982],\n",
       "     [-6.779095, 53.873842],\n",
       "     [-6.753302, 53.900348],\n",
       "     [-6.687038, 53.875481]]],\n",
       "   'type': 'Polygon'},\n",
       "  'id': 'Meath',\n",
       "  'properties': {'id': 'Meath'},\n",
       "  'type': 'Feature'},\n",
       " {'geometry': {'coordinates': [[[-6.584434, 54.051902],\n",
       "     [-6.679699, 53.909469],\n",
       "     [-6.753231, 53.901916],\n",
       "     [-7.03596, 54.08653],\n",
       "     [-7.188226, 54.079548],\n",
       "     [-7.311848, 54.114105],\n",
       "     [-7.237746, 54.203455],\n",
       "     [-7.142268, 54.227325],\n",
       "     [-7.20212, 54.297722],\n",
       "     [-7.025129, 54.416143],\n",
       "     [-6.876141, 54.345247],\n",
       "     [-6.795555, 54.211649],\n",
       "     [-6.636377, 54.172745],\n",
       "     [-6.670293, 54.07057],\n",
       "     [-6.584434, 54.051902]]],\n",
       "   'type': 'Polygon'},\n",
       "  'id': 'Monaghan',\n",
       "  'properties': {'id': 'Monaghan'},\n",
       "  'type': 'Feature'},\n",
       " {'geometry': {'coordinates': [[[-6.997626, 53.317006],\n",
       "     [-7.097237, 53.164598],\n",
       "     [-7.265606, 53.14023],\n",
       "     [-7.354813, 53.202647],\n",
       "     [-7.541708, 53.181271],\n",
       "     [-7.617948, 53.14479],\n",
       "     [-7.555246, 53.100115],\n",
       "     [-7.692264, 52.982335],\n",
       "     [-7.822513, 52.956256],\n",
       "     [-7.922337, 52.86256],\n",
       "     [-8.013326, 52.909729],\n",
       "     [-7.956681, 52.952907],\n",
       "     [-7.904738, 53.092491],\n",
       "     [-8.068404, 53.175642],\n",
       "     [-7.956538, 53.216256],\n",
       "     [-8.020095, 53.261501],\n",
       "     [-8.021734, 53.303326],\n",
       "     [-7.91564, 53.353416],\n",
       "     [-7.767649, 53.329048],\n",
       "     [-7.586953, 53.38377],\n",
       "     [-7.535224, 53.333751],\n",
       "     [-7.372769, 53.317719],\n",
       "     [-7.337927, 53.350709],\n",
       "     [-7.13614, 53.409563],\n",
       "     [-6.997626, 53.317006]]],\n",
       "   'type': 'Polygon'},\n",
       "  'id': 'Offaly',\n",
       "  'properties': {'id': 'Offaly'},\n",
       "  'type': 'Feature'},\n",
       " {'geometry': {'coordinates': [[[-8.133671, 54.101422],\n",
       "     [-8.040972, 54.077125],\n",
       "     [-8.100895, 53.953859],\n",
       "     [-8.000359, 53.926712],\n",
       "     [-7.899109, 53.815558],\n",
       "     [-7.887424, 53.772237],\n",
       "     [-7.978912, 53.694999],\n",
       "     [-8.025938, 53.607359],\n",
       "     [-7.95262, 53.51238],\n",
       "     [-7.91564, 53.353416],\n",
       "     [-8.021734, 53.303326],\n",
       "     [-8.020095, 53.261501],\n",
       "     [-8.129753, 53.262427],\n",
       "     [-8.152838, 53.328478],\n",
       "     [-8.242046, 53.36104],\n",
       "     [-8.263208, 53.516085],\n",
       "     [-8.438631, 53.68766],\n",
       "     [-8.611489, 53.709535],\n",
       "     [-8.664358, 53.670916],\n",
       "     [-8.814985, 53.663292],\n",
       "     [-8.696279, 53.722716],\n",
       "     [-8.690223, 53.874484],\n",
       "     [-8.608211, 53.885884],\n",
       "     [-8.682599, 53.958704],\n",
       "     [-8.590398, 53.968109],\n",
       "     [-8.459722, 53.916024],\n",
       "     [-8.373008, 53.919088],\n",
       "     [-8.275606, 54.047627],\n",
       "     [-8.170794, 54.102633],\n",
       "     [-8.133671, 54.101422]]],\n",
       "   'type': 'Polygon'},\n",
       "  'id': 'Roscommon',\n",
       "  'properties': {'id': 'Roscommon'},\n",
       "  'type': 'Feature'},\n",
       " {'geometry': {'coordinates': [[[-8.373863, 54.468228],\n",
       "     [-8.377782, 54.348453],\n",
       "     [-8.310591, 54.272855],\n",
       "     [-8.333463, 54.1855],\n",
       "     [-8.170794, 54.102633],\n",
       "     [-8.275606, 54.047627],\n",
       "     [-8.373008, 53.919088],\n",
       "     [-8.459722, 53.916024],\n",
       "     [-8.590398, 53.968109],\n",
       "     [-8.661294, 54.025681],\n",
       "     [-8.835078, 53.972455],\n",
       "     [-8.913598, 54.017701],\n",
       "     [-9.027317, 54.030241],\n",
       "     [-8.963404, 54.145527],\n",
       "     [-9.138043, 54.130707],\n",
       "     [-9.057528, 54.295442],\n",
       "     [-8.930271, 54.294302],\n",
       "     [-8.827526, 54.253474],\n",
       "     [-8.661935, 54.272641],\n",
       "     [-8.583629, 54.207944],\n",
       "     [-8.508601, 54.217349],\n",
       "     [-8.626381, 54.255113],\n",
       "     [-8.681886, 54.355935],\n",
       "     [-8.490289, 54.418209],\n",
       "     [-8.469697, 54.470437],\n",
       "     [-8.373863, 54.468228]]],\n",
       "   'type': 'Polygon'},\n",
       "  'id': 'Sligo',\n",
       "  'properties': {'id': 'Sligo'},\n",
       "  'type': 'Feature'},\n",
       " {'geometry': {'coordinates': [[[-8.013326, 52.909729],\n",
       "     [-7.922337, 52.86256],\n",
       "     [-7.822513, 52.956256],\n",
       "     [-7.692264, 52.982335],\n",
       "     [-7.656923, 52.93937],\n",
       "     [-7.686564, 52.851444],\n",
       "     [-7.64937, 52.790809],\n",
       "     [-7.454139, 52.640253],\n",
       "     [-7.386663, 52.502451],\n",
       "     [-7.40013, 52.455496],\n",
       "     [-7.338853, 52.342561],\n",
       "     [-7.545271, 52.355671],\n",
       "     [-7.760524, 52.314986],\n",
       "     [-7.72219, 52.222216],\n",
       "     [-7.944426, 52.236466],\n",
       "     [-8.088569, 52.215518],\n",
       "     [-8.16032, 52.302731],\n",
       "     [-8.230361, 52.404265],\n",
       "     [-8.388968, 52.438751],\n",
       "     [-8.399157, 52.468464],\n",
       "     [-8.197941, 52.521333],\n",
       "     [-8.180698, 52.666545],\n",
       "     [-8.25708, 52.697682],\n",
       "     [-8.358258, 52.682648],\n",
       "     [-8.486797, 52.717419],\n",
       "     [-8.415403, 52.895906],\n",
       "     [-8.315365, 52.923338],\n",
       "     [-8.301399, 53.004138],\n",
       "     [-8.068404, 53.175642],\n",
       "     [-7.904738, 53.092491],\n",
       "     [-7.956681, 52.952907],\n",
       "     [-8.013326, 52.909729]]],\n",
       "   'type': 'Polygon'},\n",
       "  'id': 'Tipperary',\n",
       "  'properties': {'id': 'Tipperary'},\n",
       "  'type': 'Feature'},\n",
       " {'geometry': {'coordinates': [[[-7.545271, 52.355671],\n",
       "     [-7.338853, 52.342561],\n",
       "     [-7.191717, 52.251857],\n",
       "     [-6.975182, 52.291544],\n",
       "     [-6.958651, 52.241525],\n",
       "     [-6.949175, 52.177612],\n",
       "     [-7.019714, 52.134006],\n",
       "     [-7.088615, 52.150679],\n",
       "     [-7.426921, 52.129588],\n",
       "     [-7.551398, 52.077645],\n",
       "     [-7.585243, 51.991501],\n",
       "     [-7.731951, 51.937635],\n",
       "     [-7.849731, 51.978747],\n",
       "     [-7.927468, 51.990147],\n",
       "     [-8.137519, 52.159086],\n",
       "     [-8.088569, 52.215518],\n",
       "     [-7.944426, 52.236466],\n",
       "     [-7.72219, 52.222216],\n",
       "     [-7.760524, 52.314986],\n",
       "     [-7.545271, 52.355671]]],\n",
       "   'type': 'Polygon'},\n",
       "  'id': 'Waterford',\n",
       "  'properties': {'id': 'Waterford'},\n",
       "  'type': 'Feature'},\n",
       " {'geometry': {'coordinates': [[[-7.28235, 53.795394],\n",
       "     [-7.275153, 53.783851],\n",
       "     [-7.250928, 53.711387],\n",
       "     [-6.962926, 53.639494],\n",
       "     [-7.032112, 53.514019],\n",
       "     [-7.13614, 53.409563],\n",
       "     [-7.337927, 53.350709],\n",
       "     [-7.372769, 53.317719],\n",
       "     [-7.535224, 53.333751],\n",
       "     [-7.586953, 53.38377],\n",
       "     [-7.767649, 53.329048],\n",
       "     [-7.91564, 53.353416],\n",
       "     [-7.95262, 53.51238],\n",
       "     [-7.846454, 53.538601],\n",
       "     [-7.658348, 53.531119],\n",
       "     [-7.591442, 53.647545],\n",
       "     [-7.390725, 53.735827],\n",
       "     [-7.394715, 53.781713],\n",
       "     [-7.28235, 53.795394]]],\n",
       "   'type': 'Polygon'},\n",
       "  'id': 'Westmeath',\n",
       "  'properties': {'id': 'Westmeath'},\n",
       "  'type': 'Feature'},\n",
       " {'geometry': {'coordinates': [[[-6.958651, 52.241525],\n",
       "     [-6.975182, 52.291544],\n",
       "     [-6.916185, 52.446304],\n",
       "     [-6.810019, 52.481218],\n",
       "     [-6.71789, 52.633128],\n",
       "     [-6.614788, 52.654218],\n",
       "     [-6.592415, 52.708085],\n",
       "     [-6.446419, 52.698466],\n",
       "     [-6.325575, 52.799145],\n",
       "     [-6.144666, 52.770716],\n",
       "     [-6.225822, 52.648447],\n",
       "     [-6.193046, 52.562944],\n",
       "     [-6.353577, 52.408469],\n",
       "     [-6.358066, 52.344271],\n",
       "     [-6.465799, 52.377902],\n",
       "     [-6.429176, 52.293753],\n",
       "     [-6.311396, 52.240955],\n",
       "     [-6.358636, 52.174049],\n",
       "     [-6.48917, 52.190722],\n",
       "     [-6.596975, 52.169561],\n",
       "     [-6.706917, 52.217656],\n",
       "     [-6.836382, 52.216801],\n",
       "     [-6.823058, 52.174833],\n",
       "     [-6.931361, 52.122392],\n",
       "     [-6.903644, 52.201268],\n",
       "     [-6.958651, 52.241525]]],\n",
       "   'type': 'Polygon'},\n",
       "  'id': 'Wexford',\n",
       "  'properties': {'id': 'Wexford'},\n",
       "  'type': 'Feature'},\n",
       " {'geometry': {'coordinates': [[[-6.347948, 53.200936],\n",
       "     [-6.105263, 53.219391],\n",
       "     [-6.041421, 53.117928],\n",
       "     [-6.046409, 52.989887],\n",
       "     [-5.99696, 52.963738],\n",
       "     [-6.057524, 52.857358],\n",
       "     [-6.144666, 52.770716],\n",
       "     [-6.325575, 52.799145],\n",
       "     [-6.446419, 52.698466],\n",
       "     [-6.592415, 52.708085],\n",
       "     [-6.631176, 52.831494],\n",
       "     [-6.51247, 52.826791],\n",
       "     [-6.463234, 52.893982],\n",
       "     [-6.712332, 52.924335],\n",
       "     [-6.745464, 53.017747],\n",
       "     [-6.592771, 53.092704],\n",
       "     [-6.464161, 53.228939],\n",
       "     [-6.347948, 53.200936]]],\n",
       "   'type': 'Polygon'},\n",
       "  'id': 'Wicklow',\n",
       "  'properties': {'id': 'Wicklow'},\n",
       "  'type': 'Feature'}]"
      ]
     },
     "execution_count": 65,
     "metadata": {},
     "output_type": "execute_result"
    }
   ],
   "source": [
    "geo_data['features']\n"
   ]
  },
  {
   "cell_type": "code",
   "execution_count": 66,
   "metadata": {},
   "outputs": [],
   "source": [
    "geo_data['features'][0]['id'] = 'Carlow'"
   ]
  },
  {
   "cell_type": "code",
   "execution_count": 67,
   "metadata": {},
   "outputs": [],
   "source": [
    "geo_data = json.dumps(geo_data)"
   ]
  },
  {
   "cell_type": "markdown",
   "metadata": {},
   "source": [
    "# TimestampedWmsTileLayers"
   ]
  },
  {
   "cell_type": "code",
   "execution_count": 62,
   "metadata": {},
   "outputs": [
    {
     "data": {
      "text/plain": [
       "folium.plugins.timestamped_wmstilelayer.TimestampedWmsTileLayers"
      ]
     },
     "execution_count": 62,
     "metadata": {},
     "output_type": "execute_result"
    }
   ],
   "source": [
    "plugins.TimestampedWmsTileLayers"
   ]
  },
  {
   "cell_type": "markdown",
   "metadata": {},
   "source": [
    "#### Exploring WMS with OWSLib\n",
    "https://geopython.github.io/OWSLib/"
   ]
  },
  {
   "cell_type": "raw",
   "metadata": {},
   "source": [
    "WMS - Web Map Service"
   ]
  },
  {
   "cell_type": "code",
   "execution_count": 88,
   "metadata": {},
   "outputs": [
    {
     "name": "stderr",
     "output_type": "stream",
     "text": [
      "/home/magda/venv/pyvenv3/lib/python3.6/site-packages/owslib/map/wms111.py:127: UserWarning: Content metadata for layer \"GEBCO_LATEST\" already exists. Using child layer\n",
      "  warnings.warn('Content metadata for layer \"%s\" already exists. Using child layer' % cm.id)\n",
      "/home/magda/venv/pyvenv3/lib/python3.6/site-packages/owslib/map/wms111.py:127: UserWarning: Content metadata for layer \"GEBCO_08_GRID\" already exists. Using child layer\n",
      "  warnings.warn('Content metadata for layer \"%s\" already exists. Using child layer' % cm.id)\n"
     ]
    }
   ],
   "source": [
    "from owslib.wms import WebMapService\n",
    "url='https://www.gebco.net/data_and_products/gebco_web_services/web_map_service/mapserv'\n",
    "wms = WebMapService(url, version='1.1.1')"
   ]
  },
  {
   "cell_type": "code",
   "execution_count": 89,
   "metadata": {},
   "outputs": [
    {
     "data": {
      "text/plain": [
       "'OGC:WMS'"
      ]
     },
     "execution_count": 89,
     "metadata": {},
     "output_type": "execute_result"
    }
   ],
   "source": [
    "wms.identification.type"
   ]
  },
  {
   "cell_type": "code",
   "execution_count": 90,
   "metadata": {},
   "outputs": [],
   "source": [
    "name = wms.identification.title"
   ]
  },
  {
   "cell_type": "code",
   "execution_count": 91,
   "metadata": {},
   "outputs": [],
   "source": [
    "from folium.plugins import TimestampedWmsTileLayers\n",
    "from folium import WmsTileLayer"
   ]
  },
  {
   "cell_type": "code",
   "execution_count": 94,
   "metadata": {},
   "outputs": [
    {
     "data": {
      "text/plain": [
       "{'GEBCO_08_GRID': <owslib.map.wms111.ContentMetadata at 0x7efed6a45400>,\n",
       " 'GEBCO_Grid': <owslib.map.wms111.ContentMetadata at 0x7efeda584748>,\n",
       " 'GEBCO_LATEST': <owslib.map.wms111.ContentMetadata at 0x7efed6a455f8>,\n",
       " 'GEBCO_LATEST_2': <owslib.map.wms111.ContentMetadata at 0x7efed6a45da0>,\n",
       " 'GEBCO_LATEST_SID': <owslib.map.wms111.ContentMetadata at 0x7efed6a456a0>}"
      ]
     },
     "execution_count": 94,
     "metadata": {},
     "output_type": "execute_result"
    }
   ],
   "source": [
    "dict(wms.contents)"
   ]
  },
  {
   "cell_type": "code",
   "execution_count": 101,
   "metadata": {},
   "outputs": [],
   "source": []
  },
  {
   "cell_type": "code",
   "execution_count": 95,
   "metadata": {},
   "outputs": [],
   "source": [
    "layer = 'GEBCO_Grid'\n",
    "wms = dict(wms.contents)[layer]\n",
    "\n",
    "name = wms.title\n",
    "\n",
    "lon = (wms.boundingBox[0] + wms.boundingBox[2]) / 2.\n",
    "lat = (wms.boundingBox[1] + wms.boundingBox[3]) / 2.\n",
    "center = lat, lon\n",
    "\n"
   ]
  },
  {
   "cell_type": "code",
   "execution_count": 99,
   "metadata": {},
   "outputs": [
    {
     "data": {
      "text/plain": [
       "(-180.0, -90.0, 360.0, 90.0, 'EPSG:4326')"
      ]
     },
     "execution_count": 99,
     "metadata": {},
     "output_type": "execute_result"
    }
   ],
   "source": [
    "wms.boundingBox"
   ]
  },
  {
   "cell_type": "code",
   "execution_count": 105,
   "metadata": {},
   "outputs": [
    {
     "data": {
      "text/plain": [
       "'2010-01-01T00:00:00'"
      ]
     },
     "execution_count": 105,
     "metadata": {},
     "output_type": "execute_result"
    }
   ],
   "source": [
    "df['date'].min().isoformat()"
   ]
  },
  {
   "cell_type": "code",
   "execution_count": 106,
   "metadata": {},
   "outputs": [],
   "source": [
    "time_interval = '{0}/{1}'.format(\n",
    "    df['date'].min().isoformat(),\n",
    "    df['date'].max().isoformat()\n",
    ")\n",
    "style = 'boxfill/sst_36'\n",
    "\n",
    "if style not in wms.styles:\n",
    "    style = None"
   ]
  },
  {
   "cell_type": "code",
   "execution_count": 107,
   "metadata": {},
   "outputs": [
    {
     "data": {
      "text/html": [
       "<div style=\"width:100%;\"><div style=\"position:relative;width:100%;height:0;padding-bottom:60%;\"><iframe src=\"data:text/html;charset=utf-8;base64,PCFET0NUWVBFIGh0bWw+CjxoZWFkPiAgICAKICAgIDxtZXRhIGh0dHAtZXF1aXY9ImNvbnRlbnQtdHlwZSIgY29udGVudD0idGV4dC9odG1sOyBjaGFyc2V0PVVURi04IiAvPgogICAgCiAgICAgICAgPHNjcmlwdD4KICAgICAgICAgICAgTF9OT19UT1VDSCA9IGZhbHNlOwogICAgICAgICAgICBMX0RJU0FCTEVfM0QgPSBmYWxzZTsKICAgICAgICA8L3NjcmlwdD4KICAgIAogICAgPHNjcmlwdCBzcmM9Imh0dHBzOi8vY2RuLmpzZGVsaXZyLm5ldC9ucG0vbGVhZmxldEAxLjQuMC9kaXN0L2xlYWZsZXQuanMiPjwvc2NyaXB0PgogICAgPHNjcmlwdCBzcmM9Imh0dHBzOi8vY29kZS5qcXVlcnkuY29tL2pxdWVyeS0xLjEyLjQubWluLmpzIj48L3NjcmlwdD4KICAgIDxzY3JpcHQgc3JjPSJodHRwczovL21heGNkbi5ib290c3RyYXBjZG4uY29tL2Jvb3RzdHJhcC8zLjIuMC9qcy9ib290c3RyYXAubWluLmpzIj48L3NjcmlwdD4KICAgIDxzY3JpcHQgc3JjPSJodHRwczovL2NkbmpzLmNsb3VkZmxhcmUuY29tL2FqYXgvbGlicy9MZWFmbGV0LmF3ZXNvbWUtbWFya2Vycy8yLjAuMi9sZWFmbGV0LmF3ZXNvbWUtbWFya2Vycy5qcyI+PC9zY3JpcHQ+CiAgICA8bGluayByZWw9InN0eWxlc2hlZXQiIGhyZWY9Imh0dHBzOi8vY2RuLmpzZGVsaXZyLm5ldC9ucG0vbGVhZmxldEAxLjQuMC9kaXN0L2xlYWZsZXQuY3NzIi8+CiAgICA8bGluayByZWw9InN0eWxlc2hlZXQiIGhyZWY9Imh0dHBzOi8vbWF4Y2RuLmJvb3RzdHJhcGNkbi5jb20vYm9vdHN0cmFwLzMuMi4wL2Nzcy9ib290c3RyYXAubWluLmNzcyIvPgogICAgPGxpbmsgcmVsPSJzdHlsZXNoZWV0IiBocmVmPSJodHRwczovL21heGNkbi5ib290c3RyYXBjZG4uY29tL2Jvb3RzdHJhcC8zLjIuMC9jc3MvYm9vdHN0cmFwLXRoZW1lLm1pbi5jc3MiLz4KICAgIDxsaW5rIHJlbD0ic3R5bGVzaGVldCIgaHJlZj0iaHR0cHM6Ly9tYXhjZG4uYm9vdHN0cmFwY2RuLmNvbS9mb250LWF3ZXNvbWUvNC42LjMvY3NzL2ZvbnQtYXdlc29tZS5taW4uY3NzIi8+CiAgICA8bGluayByZWw9InN0eWxlc2hlZXQiIGhyZWY9Imh0dHBzOi8vY2RuanMuY2xvdWRmbGFyZS5jb20vYWpheC9saWJzL0xlYWZsZXQuYXdlc29tZS1tYXJrZXJzLzIuMC4yL2xlYWZsZXQuYXdlc29tZS1tYXJrZXJzLmNzcyIvPgogICAgPGxpbmsgcmVsPSJzdHlsZXNoZWV0IiBocmVmPSJodHRwczovL3Jhd2Nkbi5naXRoYWNrLmNvbS9weXRob24tdmlzdWFsaXphdGlvbi9mb2xpdW0vbWFzdGVyL2ZvbGl1bS90ZW1wbGF0ZXMvbGVhZmxldC5hd2Vzb21lLnJvdGF0ZS5jc3MiLz4KICAgIDxzdHlsZT5odG1sLCBib2R5IHt3aWR0aDogMTAwJTtoZWlnaHQ6IDEwMCU7bWFyZ2luOiAwO3BhZGRpbmc6IDA7fTwvc3R5bGU+CiAgICA8c3R5bGU+I21hcCB7cG9zaXRpb246YWJzb2x1dGU7dG9wOjA7Ym90dG9tOjA7cmlnaHQ6MDtsZWZ0OjA7fTwvc3R5bGU+CiAgICAKICAgICAgICAgICAgPG1ldGEgbmFtZT0idmlld3BvcnQiIGNvbnRlbnQ9IndpZHRoPWRldmljZS13aWR0aCwKICAgICAgICAgICAgICAgIGluaXRpYWwtc2NhbGU9MS4wLCBtYXhpbXVtLXNjYWxlPTEuMCwgdXNlci1zY2FsYWJsZT1ubyIgLz4KICAgICAgICAgICAgPHN0eWxlPgogICAgICAgICAgICAgICAgI21hcF9iZGU5M2E3ZTZiZDM0NzRjODQ3MGE0NWQzYjI5MDViMyB7CiAgICAgICAgICAgICAgICAgICAgcG9zaXRpb246IHJlbGF0aXZlOwogICAgICAgICAgICAgICAgICAgIHdpZHRoOiAxMDAuMCU7CiAgICAgICAgICAgICAgICAgICAgaGVpZ2h0OiAxMDAuMCU7CiAgICAgICAgICAgICAgICAgICAgbGVmdDogMC4wJTsKICAgICAgICAgICAgICAgICAgICB0b3A6IDAuMCU7CiAgICAgICAgICAgICAgICB9CiAgICAgICAgICAgIDwvc3R5bGU+CiAgICAgICAgCiAgICA8c2NyaXB0IHNyYz0iaHR0cHM6Ly9jZG5qcy5jbG91ZGZsYXJlLmNvbS9hamF4L2xpYnMvanF1ZXJ5LzIuMC4wL2pxdWVyeS5taW4uanMiPjwvc2NyaXB0PgogICAgPHNjcmlwdCBzcmM9Imh0dHBzOi8vY2RuanMuY2xvdWRmbGFyZS5jb20vYWpheC9saWJzL2pxdWVyeXVpLzEuMTAuMi9qcXVlcnktdWkubWluLmpzIj48L3NjcmlwdD4KICAgIDxzY3JpcHQgc3JjPSJodHRwczovL3Jhd2Nkbi5naXRoYWNrLmNvbS9uZXphc2EvaXNvODYwMS1qcy1wZXJpb2QvbWFzdGVyL2lzbzg2MDEubWluLmpzIj48L3NjcmlwdD4KICAgIDxzY3JpcHQgc3JjPSJodHRwczovL3Jhd2Nkbi5naXRoYWNrLmNvbS9zb2NpYi9MZWFmbGV0LlRpbWVEaW1lbnNpb24vbWFzdGVyL2Rpc3QvbGVhZmxldC50aW1lZGltZW5zaW9uLm1pbi5qcyI+PC9zY3JpcHQ+CiAgICA8bGluayByZWw9InN0eWxlc2hlZXQiIGhyZWY9Imh0dHBzOi8vY2RuanMuY2xvdWRmbGFyZS5jb20vYWpheC9saWJzL2hpZ2hsaWdodC5qcy84LjQvc3R5bGVzL2RlZmF1bHQubWluLmNzcyIvPgogICAgPGxpbmsgcmVsPSJzdHlsZXNoZWV0IiBocmVmPSJodHRwOi8vYXBwcy5zb2NpYi5lcy9MZWFmbGV0LlRpbWVEaW1lbnNpb24vZGlzdC9sZWFmbGV0LnRpbWVkaW1lbnNpb24uY29udHJvbC5taW4uY3NzIi8+CjwvaGVhZD4KPGJvZHk+ICAgIAogICAgCiAgICAgICAgICAgIDxkaXYgY2xhc3M9ImZvbGl1bS1tYXAiIGlkPSJtYXBfYmRlOTNhN2U2YmQzNDc0Yzg0NzBhNDVkM2IyOTA1YjMiID48L2Rpdj4KICAgICAgICAKPC9ib2R5Pgo8c2NyaXB0PiAgICAKICAgIAogICAgICAgICAgICB2YXIgbWFwX2JkZTkzYTdlNmJkMzQ3NGM4NDcwYTQ1ZDNiMjkwNWIzID0gTC5tYXAoCiAgICAgICAgICAgICAgICAibWFwX2JkZTkzYTdlNmJkMzQ3NGM4NDcwYTQ1ZDNiMjkwNWIzIiwKICAgICAgICAgICAgICAgIHsKICAgICAgICAgICAgICAgICAgICBjZW50ZXI6IFs1My4zMDU0OTQsIC03LjczNzY0OV0sCiAgICAgICAgICAgICAgICAgICAgY3JzOiBMLkNSUy5FUFNHMzg1NywKICAgICAgICAgICAgICAgICAgICB6b29tOiA2LAogICAgICAgICAgICAgICAgICAgIHpvb21Db250cm9sOiB0cnVlLAogICAgICAgICAgICAgICAgICAgIHByZWZlckNhbnZhczogZmFsc2UsCiAgICAgICAgICAgICAgICB9CiAgICAgICAgICAgICk7CgogICAgICAgICAgICAKCiAgICAgICAgCiAgICAKICAgICAgICAgICAgdmFyIHRpbGVfbGF5ZXJfN2Q1YzhlODM5OTc5NGVjMTg2ZDY2ZTQ4ODM2ODVkNWUgPSBMLnRpbGVMYXllcigKICAgICAgICAgICAgICAgICJodHRwczovL3N0YW1lbi10aWxlcy17c30uYS5zc2wuZmFzdGx5Lm5ldC90b25lci97en0ve3h9L3t5fS5wbmciLAogICAgICAgICAgICAgICAgeyJhdHRyaWJ1dGlvbiI6ICJNYXAgdGlsZXMgYnkgXHUwMDNjYSBocmVmPVwiaHR0cDovL3N0YW1lbi5jb21cIlx1MDAzZVN0YW1lbiBEZXNpZ25cdTAwM2MvYVx1MDAzZSwgdW5kZXIgXHUwMDNjYSBocmVmPVwiaHR0cDovL2NyZWF0aXZlY29tbW9ucy5vcmcvbGljZW5zZXMvYnkvMy4wXCJcdTAwM2VDQyBCWSAzLjBcdTAwM2MvYVx1MDAzZS4gRGF0YSBieSBcdTAwMjZjb3B5OyBcdTAwM2NhIGhyZWY9XCJodHRwOi8vb3BlbnN0cmVldG1hcC5vcmdcIlx1MDAzZU9wZW5TdHJlZXRNYXBcdTAwM2MvYVx1MDAzZSwgdW5kZXIgXHUwMDNjYSBocmVmPVwiaHR0cDovL3d3dy5vcGVuc3RyZWV0bWFwLm9yZy9jb3B5cmlnaHRcIlx1MDAzZU9EYkxcdTAwM2MvYVx1MDAzZS4iLCAiZGV0ZWN0UmV0aW5hIjogZmFsc2UsICJtYXhOYXRpdmVab29tIjogMTgsICJtYXhab29tIjogMTgsICJtaW5ab29tIjogMCwgIm5vV3JhcCI6IGZhbHNlLCAib3BhY2l0eSI6IDEsICJzdWJkb21haW5zIjogImFiYyIsICJ0bXMiOiBmYWxzZX0KICAgICAgICAgICAgKS5hZGRUbyhtYXBfYmRlOTNhN2U2YmQzNDc0Yzg0NzBhNDVkM2IyOTA1YjMpOwogICAgICAgIAogICAgCiAgICAgICAgICAgIHZhciBtYWNyb19lbGVtZW50X2Q3NzA2Njc2YzgxOTQwODc5ZjAyYWQ5M2YwMjRjMmUxID0gTC50aWxlTGF5ZXIud21zKAogICAgICAgICAgICAgICAgImh0dHBzOi8vd3d3LmdlYmNvLm5ldC9kYXRhX2FuZF9wcm9kdWN0cy9nZWJjb193ZWJfc2VydmljZXMvd2ViX21hcF9zZXJ2aWNlL21hcHNlcnYiLAogICAgICAgICAgICAgICAgeyJDT0xPUlNDQUxFUkFOR0UiOiAiMS4yLDI4IiwgImF0dHJpYnV0aW9uIjogIiIsICJmb3JtYXQiOiAiaW1hZ2UvcG5nIiwgImxheWVycyI6ICJHRUJDT19HcmlkIiwgInRyYW5zcGFyZW50IjogdHJ1ZSwgInZlcnNpb24iOiAiMS4xLjEifQogICAgICAgICAgICApLmFkZFRvKG1hcF9iZGU5M2E3ZTZiZDM0NzRjODQ3MGE0NWQzYjI5MDViMyk7CiAgICAgICAgCiAgICAKICAgICAgICAgICAgbWFwX2JkZTkzYTdlNmJkMzQ3NGM4NDcwYTQ1ZDNiMjkwNWIzLnRpbWVEaW1lbnNpb24gPSBMLnRpbWVEaW1lbnNpb24oCiAgICAgICAgICAgICAgICB7InBlcmlvZCI6ICJQVDFIIiwgInRpbWVJbnRlcnZhbCI6ICIyMDEwLTAxLTAxVDAwOjAwOjAwLzIwMTktMDYtMTRUMDA6MDA6MDAifQogICAgICAgICAgICApOwogICAgICAgICAgICBtYXBfYmRlOTNhN2U2YmQzNDc0Yzg0NzBhNDVkM2IyOTA1YjMudGltZURpbWVuc2lvbkNvbnRyb2wgPQogICAgICAgICAgICAgICAgTC5jb250cm9sLnRpbWVEaW1lbnNpb24oCiAgICAgICAgICAgICAgICAgICAgeyJhdXRvUGxheSI6IGZhbHNlLCAicGxheWVyT3B0aW9ucyI6IHsibG9vcCI6IGZhbHNlLCAidHJhbnNpdGlvblRpbWUiOiAyMDB9LCAicG9zaXRpb24iOiAiYm90dG9tbGVmdCJ9CiAgICAgICAgICAgICAgICApOwogICAgICAgICAgICBtYXBfYmRlOTNhN2U2YmQzNDc0Yzg0NzBhNDVkM2IyOTA1YjMuYWRkQ29udHJvbCgKICAgICAgICAgICAgICAgIG1hcF9iZGU5M2E3ZTZiZDM0NzRjODQ3MGE0NWQzYjI5MDViMy50aW1lRGltZW5zaW9uQ29udHJvbAogICAgICAgICAgICApOwoKICAgICAgICAgICAgCiAgICAgICAgICAgIHZhciBtYWNyb19lbGVtZW50X2Q3NzA2Njc2YzgxOTQwODc5ZjAyYWQ5M2YwMjRjMmUxID0gTC50aW1lRGltZW5zaW9uLmxheWVyLndtcygKICAgICAgICAgICAgICAgIG1hY3JvX2VsZW1lbnRfZDc3MDY2NzZjODE5NDA4NzlmMDJhZDkzZjAyNGMyZTEsCiAgICAgICAgICAgICAgICB7CiAgICAgICAgICAgICAgICAgICAgdXBkYXRlVGltZURpbWVuc2lvbjogZmFsc2UsCiAgICAgICAgICAgICAgICAgICAgd21zVmVyc2lvbjogIjEuMS4xIiwKICAgICAgICAgICAgICAgIH0KICAgICAgICAgICAgKS5hZGRUbyhtYXBfYmRlOTNhN2U2YmQzNDc0Yzg0NzBhNDVkM2IyOTA1YjMpOwogICAgICAgICAgICAKICAgICAgICAKICAgIAogICAgICAgICAgICB2YXIgbGF5ZXJfY29udHJvbF83ZjY0MmRhNmIzYmI0MGQwYmU2OGMyNTQ2Yzc4Mzk3ZCA9IHsKICAgICAgICAgICAgICAgIGJhc2VfbGF5ZXJzIDogewogICAgICAgICAgICAgICAgICAgICJzdGFtZW50b25lciIgOiB0aWxlX2xheWVyXzdkNWM4ZTgzOTk3OTRlYzE4NmQ2NmU0ODgzNjg1ZDVlLAogICAgICAgICAgICAgICAgfSwKICAgICAgICAgICAgICAgIG92ZXJsYXlzIDogIHsKICAgICAgICAgICAgICAgICAgICAiV01TIGZvciB0aGUgR0VCQ08gZ2xvYmFsIGJhdGh5bWV0cmljIGdyaWQiIDogbWFjcm9fZWxlbWVudF9kNzcwNjY3NmM4MTk0MDg3OWYwMmFkOTNmMDI0YzJlMSwKICAgICAgICAgICAgICAgICAgICAibWFjcm9fZWxlbWVudF81MTBjNWQ1YmI4Mzc0MjY5YTI2YTU1OTlkMTRkODZmZSIgOiB0aW1lc3RhbXBlZF93bXNfdGlsZV9sYXllcnNfNTEwYzVkNWJiODM3NDI2OWEyNmE1NTk5ZDE0ZDg2ZmUsCiAgICAgICAgICAgICAgICB9LAogICAgICAgICAgICB9OwogICAgICAgICAgICBMLmNvbnRyb2wubGF5ZXJzKAogICAgICAgICAgICAgICAgbGF5ZXJfY29udHJvbF83ZjY0MmRhNmIzYmI0MGQwYmU2OGMyNTQ2Yzc4Mzk3ZC5iYXNlX2xheWVycywKICAgICAgICAgICAgICAgIGxheWVyX2NvbnRyb2xfN2Y2NDJkYTZiM2JiNDBkMGJlNjhjMjU0NmM3ODM5N2Qub3ZlcmxheXMsCiAgICAgICAgICAgICAgICB7ImF1dG9aSW5kZXgiOiB0cnVlLCAiY29sbGFwc2VkIjogdHJ1ZSwgInBvc2l0aW9uIjogInRvcHJpZ2h0In0KICAgICAgICAgICAgKS5hZGRUbyhtYXBfYmRlOTNhN2U2YmQzNDc0Yzg0NzBhNDVkM2IyOTA1YjMpOwogICAgICAgIAo8L3NjcmlwdD4=\" style=\"position:absolute;width:100%;height:100%;left:0;top:0;border:none !important;\" allowfullscreen webkitallowfullscreen mozallowfullscreen></iframe></div></div>"
      ],
      "text/plain": [
       "<folium.folium.Map at 0x7efed6a52550>"
      ]
     },
     "execution_count": 107,
     "metadata": {},
     "output_type": "execute_result"
    }
   ],
   "source": [
    "m = folium.Map(location=[53.305494, -7.737649], tiles='Stamen Toner',  zoom_start=6)\n",
    "\n",
    "w = folium.raster_layers.WmsTileLayer(\n",
    "    url=url,\n",
    "    name=name,\n",
    "    styles=style,\n",
    "    fmt='image/png',\n",
    "    transparent=True,\n",
    "    layers=layer,\n",
    "    overlay=True,\n",
    "    COLORSCALERANGE='1.2,28',\n",
    ")\n",
    "\n",
    "w.add_to(m)\n",
    "\n",
    "time = plugins.TimestampedWmsTileLayers(\n",
    "    w,\n",
    "    period='PT1H',\n",
    "    time_interval=time_interval\n",
    ")\n",
    "\n",
    "time.add_to(m)\n",
    "\n",
    "folium.LayerControl().add_to(m)\n",
    "\n",
    "m"
   ]
  },
  {
   "cell_type": "markdown",
   "metadata": {},
   "source": [
    "#### Summary \n",
    "This does not really work with the data I have because I would need to creata all tile layers day by day "
   ]
  },
  {
   "cell_type": "markdown",
   "metadata": {},
   "source": [
    "# HEAT MAP\n",
    "inspired by https://towardsdatascience.com/data-101s-spatial-visualizations-and-analysis-in-python-with-folium-39730da2adf\n"
   ]
  },
  {
   "cell_type": "markdown",
   "metadata": {},
   "source": [
    "requires lat long data"
   ]
  },
  {
   "cell_type": "code",
   "execution_count": null,
   "metadata": {},
   "outputs": [],
   "source": [
    "from folium.plugins import HeatMap\n",
    "df_copy = df[df.month>4].copy()\n",
    "df_copy['count'] = 1\n",
    "base_map = generateBaseMap()\n",
    "HeatMap(data=df_copy[['pickup_latitude', 'pickup_longitude', 'count']].groupby(['pickup_latitude', 'pickup_longitude']).sum().reset_index().values.tolist(), radius=8, max_zoom=13).add_to(base_map)"
   ]
  },
  {
   "cell_type": "code",
   "execution_count": null,
   "metadata": {},
   "outputs": [],
   "source": [
    "### fetch geocoordinates and use for heat map\n",
    "Ideas on what to do next:\n",
    "- prediction model on property prices ()"
   ]
  }
 ],
 "metadata": {
  "kernelspec": {
   "display_name": "Python 3",
   "language": "python",
   "name": "python3"
  },
  "language_info": {
   "codemirror_mode": {
    "name": "ipython",
    "version": 3
   },
   "file_extension": ".py",
   "mimetype": "text/x-python",
   "name": "python",
   "nbconvert_exporter": "python",
   "pygments_lexer": "ipython3",
   "version": "3.6.6"
  }
 },
 "nbformat": 4,
 "nbformat_minor": 2
}
