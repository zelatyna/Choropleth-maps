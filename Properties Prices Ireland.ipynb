{
 "cells": [
  {
   "cell_type": "code",
   "execution_count": 190,
   "metadata": {},
   "outputs": [],
   "source": [
    "import os\n",
    "import pandas as pd\n",
    "import folium\n",
    "import datetime"
   ]
  },
  {
   "cell_type": "markdown",
   "metadata": {},
   "source": [
    "## Introduction\n",
    "This notebook presents different techniques on visualizing data using  Choropleth maps with [folium](https://python-visualization.github.io/folium/). Folium easily allows to manipulate data in Python and then visualize it in a Leaflet map.\n",
    "\n",
    "Data used for this demo is property prices in Ireland and can be downloaded from [Property Price Register offical site](https://www.propertypriceregister.ie/)\n",
    "\n",
    "The main goal was to use Folium Choropleth Map with a Time Slider that would show how average property prices have evolved month over month and what were the most expensive areas."
   ]
  },
  {
   "cell_type": "code",
   "execution_count": null,
   "metadata": {},
   "outputs": [],
   "source": [
    "Check working example: "
   ]
  },
  {
   "cell_type": "markdown",
   "metadata": {},
   "source": [
    "### Data Loading & Cleanup"
   ]
  },
  {
   "cell_type": "markdown",
   "metadata": {},
   "source": [
    "Save data obtained from Propert Price Registrar as 'PPR-ALL.csv' and load data into dataframe."
   ]
  },
  {
   "cell_type": "code",
   "execution_count": 196,
   "metadata": {},
   "outputs": [],
   "source": [
    "df = pd.read_csv(\"PPR-ALL.csv\", ',', encoding='utf-8')"
   ]
  },
  {
   "cell_type": "code",
   "execution_count": 197,
   "metadata": {},
   "outputs": [
    {
     "data": {
      "text/plain": [
       "(369860, 9)"
      ]
     },
     "execution_count": 197,
     "metadata": {},
     "output_type": "execute_result"
    }
   ],
   "source": [
    "df.shape"
   ]
  },
  {
   "cell_type": "code",
   "execution_count": 198,
   "metadata": {},
   "outputs": [
    {
     "data": {
      "text/plain": [
       "Index(['Date of Sale (dd/mm/yyyy)', 'Address', 'Postal Code', 'County',\n",
       "       'Price', 'Not Full Market Price', 'VAT Exclusive',\n",
       "       'Description of Property', 'Property Size Description'],\n",
       "      dtype='object')"
      ]
     },
     "execution_count": 198,
     "metadata": {},
     "output_type": "execute_result"
    }
   ],
   "source": [
    "df.columns"
   ]
  },
  {
   "cell_type": "markdown",
   "metadata": {},
   "source": [
    "Check empty values in each column"
   ]
  },
  {
   "cell_type": "code",
   "execution_count": 199,
   "metadata": {},
   "outputs": [
    {
     "data": {
      "text/plain": [
       "Date of Sale (dd/mm/yyyy)         0\n",
       "Address                           0\n",
       "Postal Code                  301195\n",
       "County                            0\n",
       "Price                             0\n",
       "Not Full Market Price             0\n",
       "VAT Exclusive                     0\n",
       "Description of Property           0\n",
       "Property Size Description    317380\n",
       "dtype: int64"
      ]
     },
     "execution_count": 199,
     "metadata": {},
     "output_type": "execute_result"
    }
   ],
   "source": [
    "df.isnull().sum()"
   ]
  },
  {
   "cell_type": "markdown",
   "metadata": {},
   "source": [
    "Format price column"
   ]
  },
  {
   "cell_type": "code",
   "execution_count": 200,
   "metadata": {},
   "outputs": [
    {
     "data": {
      "text/plain": [
       "\"'\\\\ufffd'\""
      ]
     },
     "execution_count": 200,
     "metadata": {},
     "output_type": "execute_result"
    }
   ],
   "source": [
    "ascii(df['Price'][0][0])"
   ]
  },
  {
   "cell_type": "code",
   "execution_count": 201,
   "metadata": {},
   "outputs": [],
   "source": [
    "df['Price'] = df['Price'].apply(lambda x : float(x.replace(u'\\ufffd','').replace(',', '')))"
   ]
  },
  {
   "cell_type": "code",
   "execution_count": 202,
   "metadata": {},
   "outputs": [],
   "source": [
    "#df.dropna(subset = ['Price'], inplace = True)"
   ]
  },
  {
   "cell_type": "markdown",
   "metadata": {},
   "source": [
    "All properties are categorized via Description and Size. As for geolocation we only know the County of the property"
   ]
  },
  {
   "cell_type": "code",
   "execution_count": 203,
   "metadata": {},
   "outputs": [
    {
     "data": {
      "text/plain": [
       "array(['Second-Hand Dwelling house /Apartment',\n",
       "       'New Dwelling house /Apartment',\n",
       "       'Second-Hannd Dwelling house /Apartment',\n",
       "       'Teach/�ras�n C�naithe Ath�imhe', 'Teach/�ras�n C�naithe Nua',\n",
       "       'Teach/?ras?n C?naithe Nua'], dtype=object)"
      ]
     },
     "execution_count": 203,
     "metadata": {},
     "output_type": "execute_result"
    }
   ],
   "source": [
    "df['Description of Property'].unique()"
   ]
  },
  {
   "cell_type": "code",
   "execution_count": 204,
   "metadata": {},
   "outputs": [],
   "source": [
    "def fix_description(desc):\n",
    "    if 'Second-' in desc:\n",
    "        return \"second-hand house/apartment\"\n",
    "    elif 'Teach' in desc:\n",
    "        return 'Teach/'\n",
    "    else:\n",
    "        return desc"
   ]
  },
  {
   "cell_type": "markdown",
   "metadata": {},
   "source": [
    "Fix formatting of property description"
   ]
  },
  {
   "cell_type": "code",
   "execution_count": 205,
   "metadata": {},
   "outputs": [],
   "source": [
    "df['Description of Property'] = df['Description of Property'].apply(lambda x : fix_description(x))"
   ]
  },
  {
   "cell_type": "code",
   "execution_count": 206,
   "metadata": {},
   "outputs": [
    {
     "data": {
      "text/plain": [
       "array([nan,\n",
       "       'greater than or equal to 38 sq metres and less than 125 sq metres',\n",
       "       'greater than 125 sq metres', 'less than 38 sq metres',\n",
       "       'greater than or equal to 125 sq metres',\n",
       "       'n�os m� n� n� cothrom le 38 m�adar cearnach agus n�os l� n� 125 m�adar cearnach',\n",
       "       'n?os l? n? 38 m?adar cearnach'], dtype=object)"
      ]
     },
     "execution_count": 206,
     "metadata": {},
     "output_type": "execute_result"
    }
   ],
   "source": [
    "df['Property Size Description'].unique()"
   ]
  },
  {
   "cell_type": "code",
   "execution_count": 207,
   "metadata": {},
   "outputs": [
    {
     "data": {
      "text/plain": [
       "array(['Dublin', 'Laois', 'Meath', 'Kilkenny', 'Limerick', 'Carlow',\n",
       "       'Cork', 'Clare', 'Sligo', 'Cavan', 'Tipperary', 'Wicklow',\n",
       "       'Roscommon', 'Wexford', 'Mayo', 'Donegal', 'Longford', 'Galway',\n",
       "       'Offaly', 'Kildare', 'Waterford', 'Louth', 'Kerry', 'Westmeath',\n",
       "       'Monaghan', 'Leitrim'], dtype=object)"
      ]
     },
     "execution_count": 207,
     "metadata": {},
     "output_type": "execute_result"
    }
   ],
   "source": [
    "df['County'].unique()"
   ]
  },
  {
   "cell_type": "markdown",
   "metadata": {},
   "source": [
    "DataFrame.groupby(by=None, axis=0, level=None, as_index=True, sort=True, group_keys=True, squeeze=False, observed=False, **kwargs)[source]¶"
   ]
  },
  {
   "cell_type": "markdown",
   "metadata": {},
   "source": [
    "Format date column"
   ]
  },
  {
   "cell_type": "code",
   "execution_count": 208,
   "metadata": {},
   "outputs": [],
   "source": [
    "df['date'] = df['Date of Sale (dd/mm/yyyy)'].apply (lambda x:  datetime.datetime.strptime(x,'%d/%m/%Y'))"
   ]
  },
  {
   "cell_type": "code",
   "execution_count": 210,
   "metadata": {},
   "outputs": [],
   "source": [
    "df['year'] = df['date'].apply(lambda x: x.year)\n",
    "df['month'] = df['date'].apply(lambda x: x.month)"
   ]
  },
  {
   "cell_type": "code",
   "execution_count": 211,
   "metadata": {},
   "outputs": [
    {
     "data": {
      "text/html": [
       "<div>\n",
       "<style scoped>\n",
       "    .dataframe tbody tr th:only-of-type {\n",
       "        vertical-align: middle;\n",
       "    }\n",
       "\n",
       "    .dataframe tbody tr th {\n",
       "        vertical-align: top;\n",
       "    }\n",
       "\n",
       "    .dataframe thead th {\n",
       "        text-align: right;\n",
       "    }\n",
       "</style>\n",
       "<table border=\"1\" class=\"dataframe\">\n",
       "  <thead>\n",
       "    <tr style=\"text-align: right;\">\n",
       "      <th></th>\n",
       "      <th>Date of Sale (dd/mm/yyyy)</th>\n",
       "      <th>Address</th>\n",
       "      <th>Postal Code</th>\n",
       "      <th>County</th>\n",
       "      <th>Price</th>\n",
       "      <th>Not Full Market Price</th>\n",
       "      <th>VAT Exclusive</th>\n",
       "      <th>Description of Property</th>\n",
       "      <th>Property Size Description</th>\n",
       "      <th>date</th>\n",
       "      <th>year</th>\n",
       "      <th>month</th>\n",
       "    </tr>\n",
       "  </thead>\n",
       "  <tbody>\n",
       "    <tr>\n",
       "      <th>0</th>\n",
       "      <td>01/01/2010</td>\n",
       "      <td>5 Braemor Drive, Churchtown, Co.Dublin</td>\n",
       "      <td>NaN</td>\n",
       "      <td>Dublin</td>\n",
       "      <td>343000.0</td>\n",
       "      <td>No</td>\n",
       "      <td>No</td>\n",
       "      <td>second-hand house/apartment</td>\n",
       "      <td>NaN</td>\n",
       "      <td>2010-01-01</td>\n",
       "      <td>2010</td>\n",
       "      <td>1</td>\n",
       "    </tr>\n",
       "    <tr>\n",
       "      <th>1</th>\n",
       "      <td>03/01/2010</td>\n",
       "      <td>134 Ashewood Walk, Summerhill Lane, Portlaoise</td>\n",
       "      <td>NaN</td>\n",
       "      <td>Laois</td>\n",
       "      <td>185000.0</td>\n",
       "      <td>No</td>\n",
       "      <td>Yes</td>\n",
       "      <td>New Dwelling house /Apartment</td>\n",
       "      <td>greater than or equal to 38 sq metres and less...</td>\n",
       "      <td>2010-01-03</td>\n",
       "      <td>2010</td>\n",
       "      <td>1</td>\n",
       "    </tr>\n",
       "    <tr>\n",
       "      <th>2</th>\n",
       "      <td>04/01/2010</td>\n",
       "      <td>1 Meadow Avenue, Dundrum, Dublin 14</td>\n",
       "      <td>NaN</td>\n",
       "      <td>Dublin</td>\n",
       "      <td>438500.0</td>\n",
       "      <td>No</td>\n",
       "      <td>No</td>\n",
       "      <td>second-hand house/apartment</td>\n",
       "      <td>NaN</td>\n",
       "      <td>2010-01-04</td>\n",
       "      <td>2010</td>\n",
       "      <td>1</td>\n",
       "    </tr>\n",
       "    <tr>\n",
       "      <th>3</th>\n",
       "      <td>04/01/2010</td>\n",
       "      <td>1 The Haven, Mornington</td>\n",
       "      <td>NaN</td>\n",
       "      <td>Meath</td>\n",
       "      <td>400000.0</td>\n",
       "      <td>No</td>\n",
       "      <td>No</td>\n",
       "      <td>second-hand house/apartment</td>\n",
       "      <td>NaN</td>\n",
       "      <td>2010-01-04</td>\n",
       "      <td>2010</td>\n",
       "      <td>1</td>\n",
       "    </tr>\n",
       "    <tr>\n",
       "      <th>4</th>\n",
       "      <td>04/01/2010</td>\n",
       "      <td>11 Melville Heights, Kilkenny</td>\n",
       "      <td>NaN</td>\n",
       "      <td>Kilkenny</td>\n",
       "      <td>160000.0</td>\n",
       "      <td>No</td>\n",
       "      <td>No</td>\n",
       "      <td>second-hand house/apartment</td>\n",
       "      <td>NaN</td>\n",
       "      <td>2010-01-04</td>\n",
       "      <td>2010</td>\n",
       "      <td>1</td>\n",
       "    </tr>\n",
       "  </tbody>\n",
       "</table>\n",
       "</div>"
      ],
      "text/plain": [
       "  Date of Sale (dd/mm/yyyy)                                         Address  \\\n",
       "0                01/01/2010          5 Braemor Drive, Churchtown, Co.Dublin   \n",
       "1                03/01/2010  134 Ashewood Walk, Summerhill Lane, Portlaoise   \n",
       "2                04/01/2010             1 Meadow Avenue, Dundrum, Dublin 14   \n",
       "3                04/01/2010                         1 The Haven, Mornington   \n",
       "4                04/01/2010                   11 Melville Heights, Kilkenny   \n",
       "\n",
       "  Postal Code    County     Price Not Full Market Price VAT Exclusive  \\\n",
       "0         NaN    Dublin  343000.0                    No            No   \n",
       "1         NaN     Laois  185000.0                    No           Yes   \n",
       "2         NaN    Dublin  438500.0                    No            No   \n",
       "3         NaN     Meath  400000.0                    No            No   \n",
       "4         NaN  Kilkenny  160000.0                    No            No   \n",
       "\n",
       "         Description of Property  \\\n",
       "0    second-hand house/apartment   \n",
       "1  New Dwelling house /Apartment   \n",
       "2    second-hand house/apartment   \n",
       "3    second-hand house/apartment   \n",
       "4    second-hand house/apartment   \n",
       "\n",
       "                           Property Size Description       date  year  month  \n",
       "0                                                NaN 2010-01-01  2010      1  \n",
       "1  greater than or equal to 38 sq metres and less... 2010-01-03  2010      1  \n",
       "2                                                NaN 2010-01-04  2010      1  \n",
       "3                                                NaN 2010-01-04  2010      1  \n",
       "4                                                NaN 2010-01-04  2010      1  "
      ]
     },
     "execution_count": 211,
     "metadata": {},
     "output_type": "execute_result"
    }
   ],
   "source": [
    "df.head(5)"
   ]
  },
  {
   "cell_type": "markdown",
   "metadata": {},
   "source": [
    "### Data insights"
   ]
  },
  {
   "cell_type": "code",
   "execution_count": 216,
   "metadata": {},
   "outputs": [
    {
     "name": "stdout",
     "output_type": "stream",
     "text": [
      "Date range from:  2010-01-01 00:00:00  to : 2019-06-14 00:00:00\n"
     ]
    }
   ],
   "source": [
    "print (\"Date range from: \", df['date'].min(), \" to :\", df['date'].max())"
   ]
  },
  {
   "cell_type": "markdown",
   "metadata": {},
   "source": [
    "Check number of data points and prices by county and property type"
   ]
  },
  {
   "cell_type": "code",
   "execution_count": 217,
   "metadata": {},
   "outputs": [
    {
     "data": {
      "text/html": [
       "<div>\n",
       "<style scoped>\n",
       "    .dataframe tbody tr th:only-of-type {\n",
       "        vertical-align: middle;\n",
       "    }\n",
       "\n",
       "    .dataframe tbody tr th {\n",
       "        vertical-align: top;\n",
       "    }\n",
       "\n",
       "    .dataframe thead tr th {\n",
       "        text-align: left;\n",
       "    }\n",
       "\n",
       "    .dataframe thead tr:last-of-type th {\n",
       "        text-align: right;\n",
       "    }\n",
       "</style>\n",
       "<table border=\"1\" class=\"dataframe\">\n",
       "  <thead>\n",
       "    <tr>\n",
       "      <th></th>\n",
       "      <th></th>\n",
       "      <th colspan=\"5\" halign=\"left\">Price</th>\n",
       "    </tr>\n",
       "    <tr>\n",
       "      <th></th>\n",
       "      <th></th>\n",
       "      <th>count</th>\n",
       "      <th>min</th>\n",
       "      <th>max</th>\n",
       "      <th>sum</th>\n",
       "      <th>mean</th>\n",
       "    </tr>\n",
       "    <tr>\n",
       "      <th>County</th>\n",
       "      <th>Description of Property</th>\n",
       "      <th></th>\n",
       "      <th></th>\n",
       "      <th></th>\n",
       "      <th></th>\n",
       "      <th></th>\n",
       "    </tr>\n",
       "  </thead>\n",
       "  <tbody>\n",
       "    <tr>\n",
       "      <th rowspan=\"2\" valign=\"top\">Carlow</th>\n",
       "      <th>New Dwelling house /Apartment</th>\n",
       "      <td>676</td>\n",
       "      <td>10000.00</td>\n",
       "      <td>2.097577e+06</td>\n",
       "      <td>1.076423e+08</td>\n",
       "      <td>159234.100888</td>\n",
       "    </tr>\n",
       "    <tr>\n",
       "      <th>second-hand house/apartment</th>\n",
       "      <td>3341</td>\n",
       "      <td>7500.00</td>\n",
       "      <td>1.350000e+06</td>\n",
       "      <td>4.580887e+08</td>\n",
       "      <td>137111.259276</td>\n",
       "    </tr>\n",
       "    <tr>\n",
       "      <th rowspan=\"2\" valign=\"top\">Cavan</th>\n",
       "      <th>New Dwelling house /Apartment</th>\n",
       "      <td>989</td>\n",
       "      <td>9000.00</td>\n",
       "      <td>1.300000e+06</td>\n",
       "      <td>1.089787e+08</td>\n",
       "      <td>110190.812558</td>\n",
       "    </tr>\n",
       "    <tr>\n",
       "      <th>second-hand house/apartment</th>\n",
       "      <td>4823</td>\n",
       "      <td>5412.00</td>\n",
       "      <td>2.104000e+06</td>\n",
       "      <td>5.255938e+08</td>\n",
       "      <td>108976.527240</td>\n",
       "    </tr>\n",
       "    <tr>\n",
       "      <th rowspan=\"3\" valign=\"top\">Clare</th>\n",
       "      <th>New Dwelling house /Apartment</th>\n",
       "      <td>922</td>\n",
       "      <td>14166.00</td>\n",
       "      <td>1.923952e+06</td>\n",
       "      <td>1.459763e+08</td>\n",
       "      <td>158325.694826</td>\n",
       "    </tr>\n",
       "    <tr>\n",
       "      <th>Teach/</th>\n",
       "      <td>1</td>\n",
       "      <td>160000.00</td>\n",
       "      <td>1.600000e+05</td>\n",
       "      <td>1.600000e+05</td>\n",
       "      <td>160000.000000</td>\n",
       "    </tr>\n",
       "    <tr>\n",
       "      <th>second-hand house/apartment</th>\n",
       "      <td>7597</td>\n",
       "      <td>5987.00</td>\n",
       "      <td>3.318000e+07</td>\n",
       "      <td>1.134757e+09</td>\n",
       "      <td>149369.135794</td>\n",
       "    </tr>\n",
       "    <tr>\n",
       "      <th rowspan=\"3\" valign=\"top\">Cork</th>\n",
       "      <th>New Dwelling house /Apartment</th>\n",
       "      <td>6026</td>\n",
       "      <td>5925.00</td>\n",
       "      <td>7.828777e+06</td>\n",
       "      <td>1.395400e+09</td>\n",
       "      <td>231563.265901</td>\n",
       "    </tr>\n",
       "    <tr>\n",
       "      <th>Teach/</th>\n",
       "      <td>2</td>\n",
       "      <td>175000.00</td>\n",
       "      <td>3.900000e+05</td>\n",
       "      <td>5.650000e+05</td>\n",
       "      <td>282500.000000</td>\n",
       "    </tr>\n",
       "    <tr>\n",
       "      <th>second-hand house/apartment</th>\n",
       "      <td>34401</td>\n",
       "      <td>5200.00</td>\n",
       "      <td>6.987348e+07</td>\n",
       "      <td>7.397098e+09</td>\n",
       "      <td>215025.673050</td>\n",
       "    </tr>\n",
       "    <tr>\n",
       "      <th rowspan=\"3\" valign=\"top\">Donegal</th>\n",
       "      <th>New Dwelling house /Apartment</th>\n",
       "      <td>1185</td>\n",
       "      <td>10000.00</td>\n",
       "      <td>2.904000e+06</td>\n",
       "      <td>1.681174e+08</td>\n",
       "      <td>141871.224869</td>\n",
       "    </tr>\n",
       "    <tr>\n",
       "      <th>Teach/</th>\n",
       "      <td>2</td>\n",
       "      <td>74889.87</td>\n",
       "      <td>1.175000e+05</td>\n",
       "      <td>1.923899e+05</td>\n",
       "      <td>96194.935000</td>\n",
       "    </tr>\n",
       "    <tr>\n",
       "      <th>second-hand house/apartment</th>\n",
       "      <td>8938</td>\n",
       "      <td>5079.00</td>\n",
       "      <td>2.700000e+06</td>\n",
       "      <td>9.641498e+08</td>\n",
       "      <td>107870.868728</td>\n",
       "    </tr>\n",
       "    <tr>\n",
       "      <th rowspan=\"3\" valign=\"top\">Dublin</th>\n",
       "      <th>New Dwelling house /Apartment</th>\n",
       "      <td>20840</td>\n",
       "      <td>5963.00</td>\n",
       "      <td>6.920816e+07</td>\n",
       "      <td>7.651195e+09</td>\n",
       "      <td>367139.860186</td>\n",
       "    </tr>\n",
       "    <tr>\n",
       "      <th>Teach/</th>\n",
       "      <td>17</td>\n",
       "      <td>115045.00</td>\n",
       "      <td>5.800000e+05</td>\n",
       "      <td>5.442339e+06</td>\n",
       "      <td>320137.617059</td>\n",
       "    </tr>\n",
       "    <tr>\n",
       "      <th>second-hand house/apartment</th>\n",
       "      <td>99806</td>\n",
       "      <td>5250.00</td>\n",
       "      <td>1.391650e+08</td>\n",
       "      <td>3.845344e+10</td>\n",
       "      <td>385281.892018</td>\n",
       "    </tr>\n",
       "    <tr>\n",
       "      <th rowspan=\"2\" valign=\"top\">Galway</th>\n",
       "      <th>New Dwelling house /Apartment</th>\n",
       "      <td>2260</td>\n",
       "      <td>6608.00</td>\n",
       "      <td>6.161485e+06</td>\n",
       "      <td>4.267051e+08</td>\n",
       "      <td>188807.561885</td>\n",
       "    </tr>\n",
       "    <tr>\n",
       "      <th>second-hand house/apartment</th>\n",
       "      <td>16672</td>\n",
       "      <td>5864.00</td>\n",
       "      <td>3.478100e+07</td>\n",
       "      <td>3.224125e+09</td>\n",
       "      <td>193385.627048</td>\n",
       "    </tr>\n",
       "    <tr>\n",
       "      <th rowspan=\"2\" valign=\"top\">Kerry</th>\n",
       "      <th>New Dwelling house /Apartment</th>\n",
       "      <td>1270</td>\n",
       "      <td>7000.00</td>\n",
       "      <td>2.925000e+06</td>\n",
       "      <td>2.239501e+08</td>\n",
       "      <td>176338.649063</td>\n",
       "    </tr>\n",
       "    <tr>\n",
       "      <th>second-hand house/apartment</th>\n",
       "      <td>9512</td>\n",
       "      <td>5250.00</td>\n",
       "      <td>2.700000e+06</td>\n",
       "      <td>1.407032e+09</td>\n",
       "      <td>147921.807873</td>\n",
       "    </tr>\n",
       "    <tr>\n",
       "      <th rowspan=\"3\" valign=\"top\">Kildare</th>\n",
       "      <th>New Dwelling house /Apartment</th>\n",
       "      <td>4553</td>\n",
       "      <td>9000.00</td>\n",
       "      <td>2.394950e+06</td>\n",
       "      <td>1.206523e+09</td>\n",
       "      <td>264995.167441</td>\n",
       "    </tr>\n",
       "    <tr>\n",
       "      <th>Teach/</th>\n",
       "      <td>1</td>\n",
       "      <td>267000.00</td>\n",
       "      <td>2.670000e+05</td>\n",
       "      <td>2.670000e+05</td>\n",
       "      <td>267000.000000</td>\n",
       "    </tr>\n",
       "    <tr>\n",
       "      <th>second-hand house/apartment</th>\n",
       "      <td>13325</td>\n",
       "      <td>6500.00</td>\n",
       "      <td>2.650000e+07</td>\n",
       "      <td>3.255434e+09</td>\n",
       "      <td>244310.242660</td>\n",
       "    </tr>\n",
       "    <tr>\n",
       "      <th rowspan=\"2\" valign=\"top\">Kilkenny</th>\n",
       "      <th>New Dwelling house /Apartment</th>\n",
       "      <td>669</td>\n",
       "      <td>14380.00</td>\n",
       "      <td>2.125110e+06</td>\n",
       "      <td>1.104465e+08</td>\n",
       "      <td>165091.981495</td>\n",
       "    </tr>\n",
       "    <tr>\n",
       "      <th>second-hand house/apartment</th>\n",
       "      <td>5102</td>\n",
       "      <td>6000.00</td>\n",
       "      <td>5.141700e+06</td>\n",
       "      <td>8.771720e+08</td>\n",
       "      <td>171927.089681</td>\n",
       "    </tr>\n",
       "    <tr>\n",
       "      <th rowspan=\"2\" valign=\"top\">Laois</th>\n",
       "      <th>New Dwelling house /Apartment</th>\n",
       "      <td>947</td>\n",
       "      <td>9285.00</td>\n",
       "      <td>2.200000e+06</td>\n",
       "      <td>1.265636e+08</td>\n",
       "      <td>133646.926230</td>\n",
       "    </tr>\n",
       "    <tr>\n",
       "      <th>second-hand house/apartment</th>\n",
       "      <td>4635</td>\n",
       "      <td>6000.00</td>\n",
       "      <td>2.080000e+07</td>\n",
       "      <td>6.388061e+08</td>\n",
       "      <td>137822.244535</td>\n",
       "    </tr>\n",
       "    <tr>\n",
       "      <th rowspan=\"2\" valign=\"top\">Leitrim</th>\n",
       "      <th>New Dwelling house /Apartment</th>\n",
       "      <td>613</td>\n",
       "      <td>12000.00</td>\n",
       "      <td>8.400000e+05</td>\n",
       "      <td>5.918693e+07</td>\n",
       "      <td>96552.897553</td>\n",
       "    </tr>\n",
       "    <tr>\n",
       "      <th>second-hand house/apartment</th>\n",
       "      <td>2775</td>\n",
       "      <td>6000.00</td>\n",
       "      <td>8.150000e+05</td>\n",
       "      <td>2.649308e+08</td>\n",
       "      <td>95470.542923</td>\n",
       "    </tr>\n",
       "    <tr>\n",
       "      <th>Limerick</th>\n",
       "      <th>New Dwelling house /Apartment</th>\n",
       "      <td>1430</td>\n",
       "      <td>6810.00</td>\n",
       "      <td>3.000000e+06</td>\n",
       "      <td>2.838629e+08</td>\n",
       "      <td>198505.501972</td>\n",
       "    </tr>\n",
       "    <tr>\n",
       "      <th>...</th>\n",
       "      <th>...</th>\n",
       "      <td>...</td>\n",
       "      <td>...</td>\n",
       "      <td>...</td>\n",
       "      <td>...</td>\n",
       "      <td>...</td>\n",
       "    </tr>\n",
       "    <tr>\n",
       "      <th>Longford</th>\n",
       "      <th>second-hand house/apartment</th>\n",
       "      <td>2698</td>\n",
       "      <td>6847.31</td>\n",
       "      <td>7.350000e+05</td>\n",
       "      <td>2.345763e+08</td>\n",
       "      <td>86944.532494</td>\n",
       "    </tr>\n",
       "    <tr>\n",
       "      <th rowspan=\"3\" valign=\"top\">Louth</th>\n",
       "      <th>New Dwelling house /Apartment</th>\n",
       "      <td>1796</td>\n",
       "      <td>17621.00</td>\n",
       "      <td>6.013216e+06</td>\n",
       "      <td>3.565535e+08</td>\n",
       "      <td>198526.467127</td>\n",
       "    </tr>\n",
       "    <tr>\n",
       "      <th>Teach/</th>\n",
       "      <td>1</td>\n",
       "      <td>179000.00</td>\n",
       "      <td>1.790000e+05</td>\n",
       "      <td>1.790000e+05</td>\n",
       "      <td>179000.000000</td>\n",
       "    </tr>\n",
       "    <tr>\n",
       "      <th>second-hand house/apartment</th>\n",
       "      <td>7952</td>\n",
       "      <td>6900.00</td>\n",
       "      <td>2.300000e+06</td>\n",
       "      <td>1.329843e+09</td>\n",
       "      <td>167233.732177</td>\n",
       "    </tr>\n",
       "    <tr>\n",
       "      <th rowspan=\"2\" valign=\"top\">Mayo</th>\n",
       "      <th>New Dwelling house /Apartment</th>\n",
       "      <td>842</td>\n",
       "      <td>14000.00</td>\n",
       "      <td>9.660000e+05</td>\n",
       "      <td>1.079022e+08</td>\n",
       "      <td>128149.862993</td>\n",
       "    </tr>\n",
       "    <tr>\n",
       "      <th>second-hand house/apartment</th>\n",
       "      <td>7920</td>\n",
       "      <td>5254.00</td>\n",
       "      <td>7.762438e+06</td>\n",
       "      <td>9.652576e+08</td>\n",
       "      <td>121875.956374</td>\n",
       "    </tr>\n",
       "    <tr>\n",
       "      <th rowspan=\"3\" valign=\"top\">Meath</th>\n",
       "      <th>New Dwelling house /Apartment</th>\n",
       "      <td>3638</td>\n",
       "      <td>14228.00</td>\n",
       "      <td>5.536500e+06</td>\n",
       "      <td>9.093129e+08</td>\n",
       "      <td>249948.558073</td>\n",
       "    </tr>\n",
       "    <tr>\n",
       "      <th>Teach/</th>\n",
       "      <td>2</td>\n",
       "      <td>160000.00</td>\n",
       "      <td>3.696000e+05</td>\n",
       "      <td>5.296000e+05</td>\n",
       "      <td>264800.000000</td>\n",
       "    </tr>\n",
       "    <tr>\n",
       "      <th>second-hand house/apartment</th>\n",
       "      <td>10524</td>\n",
       "      <td>6000.00</td>\n",
       "      <td>4.000000e+06</td>\n",
       "      <td>2.281635e+09</td>\n",
       "      <td>216803.045198</td>\n",
       "    </tr>\n",
       "    <tr>\n",
       "      <th rowspan=\"2\" valign=\"top\">Monaghan</th>\n",
       "      <th>New Dwelling house /Apartment</th>\n",
       "      <td>483</td>\n",
       "      <td>7000.00</td>\n",
       "      <td>2.114520e+06</td>\n",
       "      <td>7.236420e+07</td>\n",
       "      <td>149822.361222</td>\n",
       "    </tr>\n",
       "    <tr>\n",
       "      <th>second-hand house/apartment</th>\n",
       "      <td>2447</td>\n",
       "      <td>5298.00</td>\n",
       "      <td>8.500000e+05</td>\n",
       "      <td>2.921390e+08</td>\n",
       "      <td>119386.614487</td>\n",
       "    </tr>\n",
       "    <tr>\n",
       "      <th rowspan=\"2\" valign=\"top\">Offaly</th>\n",
       "      <th>New Dwelling house /Apartment</th>\n",
       "      <td>418</td>\n",
       "      <td>20000.00</td>\n",
       "      <td>1.460000e+06</td>\n",
       "      <td>5.329896e+07</td>\n",
       "      <td>127509.480694</td>\n",
       "    </tr>\n",
       "    <tr>\n",
       "      <th>second-hand house/apartment</th>\n",
       "      <td>3970</td>\n",
       "      <td>6200.00</td>\n",
       "      <td>1.200000e+06</td>\n",
       "      <td>5.182992e+08</td>\n",
       "      <td>130553.949008</td>\n",
       "    </tr>\n",
       "    <tr>\n",
       "      <th rowspan=\"3\" valign=\"top\">Roscommon</th>\n",
       "      <th>New Dwelling house /Apartment</th>\n",
       "      <td>710</td>\n",
       "      <td>5179.00</td>\n",
       "      <td>9.153656e+05</td>\n",
       "      <td>7.300530e+07</td>\n",
       "      <td>102824.364930</td>\n",
       "    </tr>\n",
       "    <tr>\n",
       "      <th>Teach/</th>\n",
       "      <td>1</td>\n",
       "      <td>100000.00</td>\n",
       "      <td>1.000000e+05</td>\n",
       "      <td>1.000000e+05</td>\n",
       "      <td>100000.000000</td>\n",
       "    </tr>\n",
       "    <tr>\n",
       "      <th>second-hand house/apartment</th>\n",
       "      <td>4552</td>\n",
       "      <td>5500.00</td>\n",
       "      <td>1.075000e+06</td>\n",
       "      <td>4.445291e+08</td>\n",
       "      <td>97655.766832</td>\n",
       "    </tr>\n",
       "    <tr>\n",
       "      <th rowspan=\"2\" valign=\"top\">Sligo</th>\n",
       "      <th>New Dwelling house /Apartment</th>\n",
       "      <td>777</td>\n",
       "      <td>15000.00</td>\n",
       "      <td>5.559481e+06</td>\n",
       "      <td>1.135961e+08</td>\n",
       "      <td>146198.325689</td>\n",
       "    </tr>\n",
       "    <tr>\n",
       "      <th>second-hand house/apartment</th>\n",
       "      <td>4739</td>\n",
       "      <td>5177.00</td>\n",
       "      <td>1.900440e+06</td>\n",
       "      <td>6.025834e+08</td>\n",
       "      <td>127154.132853</td>\n",
       "    </tr>\n",
       "    <tr>\n",
       "      <th rowspan=\"2\" valign=\"top\">Tipperary</th>\n",
       "      <th>New Dwelling house /Apartment</th>\n",
       "      <td>830</td>\n",
       "      <td>9900.00</td>\n",
       "      <td>3.000000e+06</td>\n",
       "      <td>1.343891e+08</td>\n",
       "      <td>161914.531651</td>\n",
       "    </tr>\n",
       "    <tr>\n",
       "      <th>second-hand house/apartment</th>\n",
       "      <td>8984</td>\n",
       "      <td>5080.00</td>\n",
       "      <td>6.600000e+06</td>\n",
       "      <td>1.168014e+09</td>\n",
       "      <td>130010.512698</td>\n",
       "    </tr>\n",
       "    <tr>\n",
       "      <th rowspan=\"3\" valign=\"top\">Waterford</th>\n",
       "      <th>New Dwelling house /Apartment</th>\n",
       "      <td>1031</td>\n",
       "      <td>8000.00</td>\n",
       "      <td>9.910000e+05</td>\n",
       "      <td>1.788582e+08</td>\n",
       "      <td>173480.294830</td>\n",
       "    </tr>\n",
       "    <tr>\n",
       "      <th>Teach/</th>\n",
       "      <td>2</td>\n",
       "      <td>65000.00</td>\n",
       "      <td>2.815000e+05</td>\n",
       "      <td>3.465000e+05</td>\n",
       "      <td>173250.000000</td>\n",
       "    </tr>\n",
       "    <tr>\n",
       "      <th>second-hand house/apartment</th>\n",
       "      <td>8679</td>\n",
       "      <td>6000.00</td>\n",
       "      <td>2.181000e+06</td>\n",
       "      <td>1.243327e+09</td>\n",
       "      <td>143256.928939</td>\n",
       "    </tr>\n",
       "    <tr>\n",
       "      <th rowspan=\"2\" valign=\"top\">Westmeath</th>\n",
       "      <th>New Dwelling house /Apartment</th>\n",
       "      <td>735</td>\n",
       "      <td>25000.00</td>\n",
       "      <td>1.696123e+06</td>\n",
       "      <td>1.066488e+08</td>\n",
       "      <td>145100.450027</td>\n",
       "    </tr>\n",
       "    <tr>\n",
       "      <th>second-hand house/apartment</th>\n",
       "      <td>6325</td>\n",
       "      <td>5500.00</td>\n",
       "      <td>1.400000e+07</td>\n",
       "      <td>8.887782e+08</td>\n",
       "      <td>140518.297209</td>\n",
       "    </tr>\n",
       "    <tr>\n",
       "      <th rowspan=\"2\" valign=\"top\">Wexford</th>\n",
       "      <th>New Dwelling house /Apartment</th>\n",
       "      <td>1605</td>\n",
       "      <td>8455.00</td>\n",
       "      <td>1.566100e+06</td>\n",
       "      <td>2.514392e+08</td>\n",
       "      <td>156659.937938</td>\n",
       "    </tr>\n",
       "    <tr>\n",
       "      <th>second-hand house/apartment</th>\n",
       "      <td>10920</td>\n",
       "      <td>5500.00</td>\n",
       "      <td>3.200000e+06</td>\n",
       "      <td>1.591546e+09</td>\n",
       "      <td>145745.986307</td>\n",
       "    </tr>\n",
       "    <tr>\n",
       "      <th rowspan=\"3\" valign=\"top\">Wicklow</th>\n",
       "      <th>New Dwelling house /Apartment</th>\n",
       "      <td>2039</td>\n",
       "      <td>8811.00</td>\n",
       "      <td>1.361000e+06</td>\n",
       "      <td>5.982259e+08</td>\n",
       "      <td>293391.833850</td>\n",
       "    </tr>\n",
       "    <tr>\n",
       "      <th>Teach/</th>\n",
       "      <td>2</td>\n",
       "      <td>530000.00</td>\n",
       "      <td>6.100000e+05</td>\n",
       "      <td>1.140000e+06</td>\n",
       "      <td>570000.000000</td>\n",
       "    </tr>\n",
       "    <tr>\n",
       "      <th>second-hand house/apartment</th>\n",
       "      <td>9096</td>\n",
       "      <td>6248.00</td>\n",
       "      <td>7.225000e+06</td>\n",
       "      <td>2.671525e+09</td>\n",
       "      <td>293703.291175</td>\n",
       "    </tr>\n",
       "  </tbody>\n",
       "</table>\n",
       "<p>63 rows × 5 columns</p>\n",
       "</div>"
      ],
      "text/plain": [
       "                                         Price                           \\\n",
       "                                         count        min           max   \n",
       "County    Description of Property                                         \n",
       "Carlow    New Dwelling house /Apartment    676   10000.00  2.097577e+06   \n",
       "          second-hand house/apartment     3341    7500.00  1.350000e+06   \n",
       "Cavan     New Dwelling house /Apartment    989    9000.00  1.300000e+06   \n",
       "          second-hand house/apartment     4823    5412.00  2.104000e+06   \n",
       "Clare     New Dwelling house /Apartment    922   14166.00  1.923952e+06   \n",
       "          Teach/                             1  160000.00  1.600000e+05   \n",
       "          second-hand house/apartment     7597    5987.00  3.318000e+07   \n",
       "Cork      New Dwelling house /Apartment   6026    5925.00  7.828777e+06   \n",
       "          Teach/                             2  175000.00  3.900000e+05   \n",
       "          second-hand house/apartment    34401    5200.00  6.987348e+07   \n",
       "Donegal   New Dwelling house /Apartment   1185   10000.00  2.904000e+06   \n",
       "          Teach/                             2   74889.87  1.175000e+05   \n",
       "          second-hand house/apartment     8938    5079.00  2.700000e+06   \n",
       "Dublin    New Dwelling house /Apartment  20840    5963.00  6.920816e+07   \n",
       "          Teach/                            17  115045.00  5.800000e+05   \n",
       "          second-hand house/apartment    99806    5250.00  1.391650e+08   \n",
       "Galway    New Dwelling house /Apartment   2260    6608.00  6.161485e+06   \n",
       "          second-hand house/apartment    16672    5864.00  3.478100e+07   \n",
       "Kerry     New Dwelling house /Apartment   1270    7000.00  2.925000e+06   \n",
       "          second-hand house/apartment     9512    5250.00  2.700000e+06   \n",
       "Kildare   New Dwelling house /Apartment   4553    9000.00  2.394950e+06   \n",
       "          Teach/                             1  267000.00  2.670000e+05   \n",
       "          second-hand house/apartment    13325    6500.00  2.650000e+07   \n",
       "Kilkenny  New Dwelling house /Apartment    669   14380.00  2.125110e+06   \n",
       "          second-hand house/apartment     5102    6000.00  5.141700e+06   \n",
       "Laois     New Dwelling house /Apartment    947    9285.00  2.200000e+06   \n",
       "          second-hand house/apartment     4635    6000.00  2.080000e+07   \n",
       "Leitrim   New Dwelling house /Apartment    613   12000.00  8.400000e+05   \n",
       "          second-hand house/apartment     2775    6000.00  8.150000e+05   \n",
       "Limerick  New Dwelling house /Apartment   1430    6810.00  3.000000e+06   \n",
       "...                                        ...        ...           ...   \n",
       "Longford  second-hand house/apartment     2698    6847.31  7.350000e+05   \n",
       "Louth     New Dwelling house /Apartment   1796   17621.00  6.013216e+06   \n",
       "          Teach/                             1  179000.00  1.790000e+05   \n",
       "          second-hand house/apartment     7952    6900.00  2.300000e+06   \n",
       "Mayo      New Dwelling house /Apartment    842   14000.00  9.660000e+05   \n",
       "          second-hand house/apartment     7920    5254.00  7.762438e+06   \n",
       "Meath     New Dwelling house /Apartment   3638   14228.00  5.536500e+06   \n",
       "          Teach/                             2  160000.00  3.696000e+05   \n",
       "          second-hand house/apartment    10524    6000.00  4.000000e+06   \n",
       "Monaghan  New Dwelling house /Apartment    483    7000.00  2.114520e+06   \n",
       "          second-hand house/apartment     2447    5298.00  8.500000e+05   \n",
       "Offaly    New Dwelling house /Apartment    418   20000.00  1.460000e+06   \n",
       "          second-hand house/apartment     3970    6200.00  1.200000e+06   \n",
       "Roscommon New Dwelling house /Apartment    710    5179.00  9.153656e+05   \n",
       "          Teach/                             1  100000.00  1.000000e+05   \n",
       "          second-hand house/apartment     4552    5500.00  1.075000e+06   \n",
       "Sligo     New Dwelling house /Apartment    777   15000.00  5.559481e+06   \n",
       "          second-hand house/apartment     4739    5177.00  1.900440e+06   \n",
       "Tipperary New Dwelling house /Apartment    830    9900.00  3.000000e+06   \n",
       "          second-hand house/apartment     8984    5080.00  6.600000e+06   \n",
       "Waterford New Dwelling house /Apartment   1031    8000.00  9.910000e+05   \n",
       "          Teach/                             2   65000.00  2.815000e+05   \n",
       "          second-hand house/apartment     8679    6000.00  2.181000e+06   \n",
       "Westmeath New Dwelling house /Apartment    735   25000.00  1.696123e+06   \n",
       "          second-hand house/apartment     6325    5500.00  1.400000e+07   \n",
       "Wexford   New Dwelling house /Apartment   1605    8455.00  1.566100e+06   \n",
       "          second-hand house/apartment    10920    5500.00  3.200000e+06   \n",
       "Wicklow   New Dwelling house /Apartment   2039    8811.00  1.361000e+06   \n",
       "          Teach/                             2  530000.00  6.100000e+05   \n",
       "          second-hand house/apartment     9096    6248.00  7.225000e+06   \n",
       "\n",
       "                                                                      \n",
       "                                                  sum           mean  \n",
       "County    Description of Property                                     \n",
       "Carlow    New Dwelling house /Apartment  1.076423e+08  159234.100888  \n",
       "          second-hand house/apartment    4.580887e+08  137111.259276  \n",
       "Cavan     New Dwelling house /Apartment  1.089787e+08  110190.812558  \n",
       "          second-hand house/apartment    5.255938e+08  108976.527240  \n",
       "Clare     New Dwelling house /Apartment  1.459763e+08  158325.694826  \n",
       "          Teach/                         1.600000e+05  160000.000000  \n",
       "          second-hand house/apartment    1.134757e+09  149369.135794  \n",
       "Cork      New Dwelling house /Apartment  1.395400e+09  231563.265901  \n",
       "          Teach/                         5.650000e+05  282500.000000  \n",
       "          second-hand house/apartment    7.397098e+09  215025.673050  \n",
       "Donegal   New Dwelling house /Apartment  1.681174e+08  141871.224869  \n",
       "          Teach/                         1.923899e+05   96194.935000  \n",
       "          second-hand house/apartment    9.641498e+08  107870.868728  \n",
       "Dublin    New Dwelling house /Apartment  7.651195e+09  367139.860186  \n",
       "          Teach/                         5.442339e+06  320137.617059  \n",
       "          second-hand house/apartment    3.845344e+10  385281.892018  \n",
       "Galway    New Dwelling house /Apartment  4.267051e+08  188807.561885  \n",
       "          second-hand house/apartment    3.224125e+09  193385.627048  \n",
       "Kerry     New Dwelling house /Apartment  2.239501e+08  176338.649063  \n",
       "          second-hand house/apartment    1.407032e+09  147921.807873  \n",
       "Kildare   New Dwelling house /Apartment  1.206523e+09  264995.167441  \n",
       "          Teach/                         2.670000e+05  267000.000000  \n",
       "          second-hand house/apartment    3.255434e+09  244310.242660  \n",
       "Kilkenny  New Dwelling house /Apartment  1.104465e+08  165091.981495  \n",
       "          second-hand house/apartment    8.771720e+08  171927.089681  \n",
       "Laois     New Dwelling house /Apartment  1.265636e+08  133646.926230  \n",
       "          second-hand house/apartment    6.388061e+08  137822.244535  \n",
       "Leitrim   New Dwelling house /Apartment  5.918693e+07   96552.897553  \n",
       "          second-hand house/apartment    2.649308e+08   95470.542923  \n",
       "Limerick  New Dwelling house /Apartment  2.838629e+08  198505.501972  \n",
       "...                                               ...            ...  \n",
       "Longford  second-hand house/apartment    2.345763e+08   86944.532494  \n",
       "Louth     New Dwelling house /Apartment  3.565535e+08  198526.467127  \n",
       "          Teach/                         1.790000e+05  179000.000000  \n",
       "          second-hand house/apartment    1.329843e+09  167233.732177  \n",
       "Mayo      New Dwelling house /Apartment  1.079022e+08  128149.862993  \n",
       "          second-hand house/apartment    9.652576e+08  121875.956374  \n",
       "Meath     New Dwelling house /Apartment  9.093129e+08  249948.558073  \n",
       "          Teach/                         5.296000e+05  264800.000000  \n",
       "          second-hand house/apartment    2.281635e+09  216803.045198  \n",
       "Monaghan  New Dwelling house /Apartment  7.236420e+07  149822.361222  \n",
       "          second-hand house/apartment    2.921390e+08  119386.614487  \n",
       "Offaly    New Dwelling house /Apartment  5.329896e+07  127509.480694  \n",
       "          second-hand house/apartment    5.182992e+08  130553.949008  \n",
       "Roscommon New Dwelling house /Apartment  7.300530e+07  102824.364930  \n",
       "          Teach/                         1.000000e+05  100000.000000  \n",
       "          second-hand house/apartment    4.445291e+08   97655.766832  \n",
       "Sligo     New Dwelling house /Apartment  1.135961e+08  146198.325689  \n",
       "          second-hand house/apartment    6.025834e+08  127154.132853  \n",
       "Tipperary New Dwelling house /Apartment  1.343891e+08  161914.531651  \n",
       "          second-hand house/apartment    1.168014e+09  130010.512698  \n",
       "Waterford New Dwelling house /Apartment  1.788582e+08  173480.294830  \n",
       "          Teach/                         3.465000e+05  173250.000000  \n",
       "          second-hand house/apartment    1.243327e+09  143256.928939  \n",
       "Westmeath New Dwelling house /Apartment  1.066488e+08  145100.450027  \n",
       "          second-hand house/apartment    8.887782e+08  140518.297209  \n",
       "Wexford   New Dwelling house /Apartment  2.514392e+08  156659.937938  \n",
       "          second-hand house/apartment    1.591546e+09  145745.986307  \n",
       "Wicklow   New Dwelling house /Apartment  5.982259e+08  293391.833850  \n",
       "          Teach/                         1.140000e+06  570000.000000  \n",
       "          second-hand house/apartment    2.671525e+09  293703.291175  \n",
       "\n",
       "[63 rows x 5 columns]"
      ]
     },
     "execution_count": 217,
     "metadata": {},
     "output_type": "execute_result"
    }
   ],
   "source": [
    "df[['County', 'Description of Property', 'Price']].groupby(['County', 'Description of Property']).aggregate(['count', 'min', 'max', 'sum', 'mean'])"
   ]
  },
  {
   "cell_type": "markdown",
   "metadata": {},
   "source": [
    "Select and prepare dataframe with data that will be used for Choropleth maps - only County, month, year and Avg Price is needed"
   ]
  },
  {
   "cell_type": "code",
   "execution_count": 218,
   "metadata": {},
   "outputs": [],
   "source": [
    "data = df[['County', 'Description of Property', 'Price', 'year', 'month']]"
   ]
  },
  {
   "cell_type": "code",
   "execution_count": 219,
   "metadata": {},
   "outputs": [],
   "source": [
    "data_agg = data.groupby(['County', 'Description of Property', 'year', 'month']).aggregate(['count', 'min', 'max', 'sum', 'mean'])"
   ]
  },
  {
   "cell_type": "code",
   "execution_count": 220,
   "metadata": {},
   "outputs": [],
   "source": [
    "data_agg.columns = data_agg.columns.droplevel()"
   ]
  },
  {
   "cell_type": "code",
   "execution_count": 221,
   "metadata": {},
   "outputs": [],
   "source": [
    "data_agg.reset_index(inplace=True)"
   ]
  },
  {
   "cell_type": "code",
   "execution_count": 222,
   "metadata": {},
   "outputs": [
    {
     "data": {
      "text/html": [
       "<div>\n",
       "<style scoped>\n",
       "    .dataframe tbody tr th:only-of-type {\n",
       "        vertical-align: middle;\n",
       "    }\n",
       "\n",
       "    .dataframe tbody tr th {\n",
       "        vertical-align: top;\n",
       "    }\n",
       "\n",
       "    .dataframe thead th {\n",
       "        text-align: right;\n",
       "    }\n",
       "</style>\n",
       "<table border=\"1\" class=\"dataframe\">\n",
       "  <thead>\n",
       "    <tr style=\"text-align: right;\">\n",
       "      <th></th>\n",
       "      <th>County</th>\n",
       "      <th>Description of Property</th>\n",
       "      <th>year</th>\n",
       "      <th>month</th>\n",
       "      <th>count</th>\n",
       "      <th>min</th>\n",
       "      <th>max</th>\n",
       "      <th>sum</th>\n",
       "      <th>mean</th>\n",
       "    </tr>\n",
       "  </thead>\n",
       "  <tbody>\n",
       "    <tr>\n",
       "      <th>0</th>\n",
       "      <td>Carlow</td>\n",
       "      <td>New Dwelling house /Apartment</td>\n",
       "      <td>2010</td>\n",
       "      <td>1</td>\n",
       "      <td>4</td>\n",
       "      <td>127000.0</td>\n",
       "      <td>286343.61</td>\n",
       "      <td>821933.91</td>\n",
       "      <td>205483.4775</td>\n",
       "    </tr>\n",
       "    <tr>\n",
       "      <th>1</th>\n",
       "      <td>Carlow</td>\n",
       "      <td>New Dwelling house /Apartment</td>\n",
       "      <td>2010</td>\n",
       "      <td>2</td>\n",
       "      <td>3</td>\n",
       "      <td>132743.0</td>\n",
       "      <td>169162.98</td>\n",
       "      <td>451684.98</td>\n",
       "      <td>150561.6600</td>\n",
       "    </tr>\n",
       "    <tr>\n",
       "      <th>2</th>\n",
       "      <td>Carlow</td>\n",
       "      <td>New Dwelling house /Apartment</td>\n",
       "      <td>2010</td>\n",
       "      <td>3</td>\n",
       "      <td>2</td>\n",
       "      <td>132158.6</td>\n",
       "      <td>157709.24</td>\n",
       "      <td>289867.84</td>\n",
       "      <td>144933.9200</td>\n",
       "    </tr>\n",
       "    <tr>\n",
       "      <th>3</th>\n",
       "      <td>Carlow</td>\n",
       "      <td>New Dwelling house /Apartment</td>\n",
       "      <td>2010</td>\n",
       "      <td>4</td>\n",
       "      <td>2</td>\n",
       "      <td>170000.0</td>\n",
       "      <td>365000.00</td>\n",
       "      <td>535000.00</td>\n",
       "      <td>267500.0000</td>\n",
       "    </tr>\n",
       "    <tr>\n",
       "      <th>4</th>\n",
       "      <td>Carlow</td>\n",
       "      <td>New Dwelling house /Apartment</td>\n",
       "      <td>2010</td>\n",
       "      <td>5</td>\n",
       "      <td>6</td>\n",
       "      <td>56750.0</td>\n",
       "      <td>305000.00</td>\n",
       "      <td>971961.00</td>\n",
       "      <td>161993.5000</td>\n",
       "    </tr>\n",
       "  </tbody>\n",
       "</table>\n",
       "</div>"
      ],
      "text/plain": [
       "   County        Description of Property  year  month  count       min  \\\n",
       "0  Carlow  New Dwelling house /Apartment  2010      1      4  127000.0   \n",
       "1  Carlow  New Dwelling house /Apartment  2010      2      3  132743.0   \n",
       "2  Carlow  New Dwelling house /Apartment  2010      3      2  132158.6   \n",
       "3  Carlow  New Dwelling house /Apartment  2010      4      2  170000.0   \n",
       "4  Carlow  New Dwelling house /Apartment  2010      5      6   56750.0   \n",
       "\n",
       "         max        sum         mean  \n",
       "0  286343.61  821933.91  205483.4775  \n",
       "1  169162.98  451684.98  150561.6600  \n",
       "2  157709.24  289867.84  144933.9200  \n",
       "3  365000.00  535000.00  267500.0000  \n",
       "4  305000.00  971961.00  161993.5000  "
      ]
     },
     "execution_count": 222,
     "metadata": {},
     "output_type": "execute_result"
    }
   ],
   "source": [
    "data_agg.head()"
   ]
  },
  {
   "cell_type": "markdown",
   "metadata": {},
   "source": [
    "## Choropleth maps"
   ]
  },
  {
   "cell_type": "markdown",
   "metadata": {},
   "source": [
    "Before making Choropleth with Time Slider, let's practice with \n",
    "[Choropleth maps](https://python-visualization.github.io/folium/quickstart.html#Choropleth-maps).\n",
    "Use data for selected month only and colour counties according to avg property price.\n",
    "Use all Property types"
   ]
  },
  {
   "cell_type": "code",
   "execution_count": 223,
   "metadata": {},
   "outputs": [],
   "source": [
    "by_county = data_agg[['County', 'year', 'month', 'mean']]"
   ]
  },
  {
   "cell_type": "code",
   "execution_count": 224,
   "metadata": {},
   "outputs": [],
   "source": [
    "test = by_county[(by_county['year'] == 2010) &(by_county['month'] == 1)]"
   ]
  },
  {
   "cell_type": "code",
   "execution_count": 225,
   "metadata": {},
   "outputs": [],
   "source": [
    "test = test[['County', 'mean']]"
   ]
  },
  {
   "cell_type": "code",
   "execution_count": 226,
   "metadata": {},
   "outputs": [
    {
     "data": {
      "text/plain": [
       "<folium.features.Choropleth at 0x7fd9ebf80160>"
      ]
     },
     "execution_count": 226,
     "metadata": {},
     "output_type": "execute_result"
    }
   ],
   "source": [
    "state_geo = f'ireland.json'\n",
    "\n",
    "m = folium.Map(location=[53.305494, -7.737649], zoom_start=6)\n",
    "\n",
    "folium.Choropleth(\n",
    "    geo_data=state_geo,\n",
    "    name='Average property prices in Jan 2010',\n",
    "    data=test,\n",
    "    columns=['County', 'mean'],\n",
    "    key_on='feature.properties.id',\n",
    "    fill_color='YlGn',\n",
    "    fill_opacity=0.7,\n",
    "    line_opacity=0.2,\n",
    "    nan_fill_color='yellow',\n",
    "    legend_name='Average property prices',\n",
    ").add_to(m)\n",
    "\n"
   ]
  },
  {
   "cell_type": "code",
   "execution_count": 227,
   "metadata": {
    "scrolled": true
   },
   "outputs": [],
   "source": [
    "#uncomment following line to display result\n",
    "#m"
   ]
  },
  {
   "cell_type": "markdown",
   "metadata": {},
   "source": [
    "Save result into html file"
   ]
  },
  {
   "cell_type": "code",
   "execution_count": 228,
   "metadata": {},
   "outputs": [],
   "source": [
    "m.save(os.path.join('results', 'choropleth_mean_2010_01.html'))"
   ]
  },
  {
   "cell_type": "markdown",
   "metadata": {},
   "source": [
    "#### Choropleth with self defined scale"
   ]
  },
  {
   "cell_type": "markdown",
   "metadata": {},
   "source": [
    "Modyfying the legend is easy by passing your own bins for values and by using branca colorscale"
   ]
  },
  {
   "cell_type": "code",
   "execution_count": 229,
   "metadata": {},
   "outputs": [],
   "source": [
    "by_county = data_agg[['County', 'year', 'month', 'sum']]"
   ]
  },
  {
   "cell_type": "code",
   "execution_count": 230,
   "metadata": {},
   "outputs": [],
   "source": [
    "test = by_county[(by_county['year'] == 2010) &(by_county['month'] == 1)]"
   ]
  },
  {
   "cell_type": "code",
   "execution_count": 231,
   "metadata": {},
   "outputs": [],
   "source": [
    "bins = list(test['sum'].quantile([0, 0.97, 0.98, 0.99, 1]))"
   ]
  },
  {
   "cell_type": "code",
   "execution_count": 232,
   "metadata": {},
   "outputs": [
    {
     "data": {
      "text/plain": [
       "[212500.0,\n",
       " 21184953.906299993,\n",
       " 24577948.864199977,\n",
       " 71234603.49700019,\n",
       " 119657121.78999999]"
      ]
     },
     "execution_count": 232,
     "metadata": {},
     "output_type": "execute_result"
    }
   ],
   "source": [
    "bins"
   ]
  },
  {
   "cell_type": "code",
   "execution_count": 233,
   "metadata": {},
   "outputs": [
    {
     "data": {
      "text/plain": [
       "<folium.map.LayerControl at 0x7fd9f030fd68>"
      ]
     },
     "execution_count": 233,
     "metadata": {},
     "output_type": "execute_result"
    }
   ],
   "source": [
    "m = folium.Map(location=[53.305494, -7.737649], zoom_start=6)\n",
    "\n",
    "folium.Choropleth(\n",
    "    geo_data=state_geo,\n",
    "    name='Total spent on Properties in Jan 2010',\n",
    "    data=test,\n",
    "    columns=['County', 'sum'],\n",
    "    key_on='feature.properties.id',\n",
    "    fill_color='BuPu',\n",
    "    fill_opacity=0.7,\n",
    "    line_opacity=0.2,\n",
    "    nan_fill_color='yellow',\n",
    "    legend_name='Total spent on Properties',\n",
    "    bins=bins\n",
    ").add_to(m)\n",
    "\n",
    "folium.LayerControl().add_to(m)\n"
   ]
  },
  {
   "cell_type": "code",
   "execution_count": 234,
   "metadata": {},
   "outputs": [],
   "source": [
    "#uncomment to display result\n",
    "#m"
   ]
  },
  {
   "cell_type": "code",
   "execution_count": 235,
   "metadata": {},
   "outputs": [],
   "source": [
    "m.save(os.path.join('results', 'choropleth_total_spent_2010_01.html'))"
   ]
  },
  {
   "cell_type": "markdown",
   "metadata": {},
   "source": [
    "## Choropleth with Time Slider"
   ]
  },
  {
   "cell_type": "markdown",
   "metadata": {},
   "source": [
    "[Source code of TimeSliderChoropleth](https://github.com/python-visualization/folium/blob/master/folium/plugins/time_slider_choropleth.py)\n",
    "\n",
    "The class needs at least two arguments to be instantiated.\n",
    "\n",
    "1. A string-serielized geojson containing all the features (i.e., the areas)\n",
    "2. A style dictionary where the keys are the geojson feature ids and the values are dicts of `{time: style_options_dict}`:\n",
    "\n",
    "`styledict = {\n",
    "    '0': {\n",
    "        '2017-1-1': {'color': 'ffffff', 'opacity': 1}\n",
    "        '2017-1-2': {'color': 'fffff0', 'opacity': 1}\n",
    "        ...\n",
    "        },\n",
    "    ...,\n",
    "    'n': {\n",
    "        '2017-1-1': {'color': 'ffffff', 'opacity': 1}\n",
    "        '2017-1-2': {'color': 'fffff0', 'opacity': 1}\n",
    "        ...\n",
    "        }`"
   ]
  },
  {
   "cell_type": "markdown",
   "metadata": {},
   "source": [
    "Good Time Slider Choropleth example notebook:\n",
    "    https://github.com/python-visualization/folium/blob/master/examples/TimeSliderChoropleth.ipynb"
   ]
  },
  {
   "cell_type": "code",
   "execution_count": 236,
   "metadata": {},
   "outputs": [
    {
     "data": {
      "text/plain": [
       "folium.plugins.time_slider_choropleth.TimeSliderChoropleth"
      ]
     },
     "execution_count": 236,
     "metadata": {},
     "output_type": "execute_result"
    }
   ],
   "source": [
    "from folium import plugins\n",
    "plugins.TimeSliderChoropleth"
   ]
  },
  {
   "cell_type": "markdown",
   "metadata": {},
   "source": [
    "### 1. Create geojson"
   ]
  },
  {
   "cell_type": "markdown",
   "metadata": {},
   "source": [
    "Ireland counties Geojson data from https://github.com/deldersveld/topojson/blob/master/countries/ireland/ireland-counties.json"
   ]
  },
  {
   "cell_type": "markdown",
   "metadata": {},
   "source": [
    "Load json data and transform to proper format"
   ]
  },
  {
   "cell_type": "code",
   "execution_count": 237,
   "metadata": {},
   "outputs": [],
   "source": [
    "import json\n",
    "with open('ireland.json') as json_file:\n",
    "    geo_data = json.load(json_file)"
   ]
  },
  {
   "cell_type": "code",
   "execution_count": 238,
   "metadata": {},
   "outputs": [
    {
     "data": {
      "text/plain": [
       "{'geometry': {'coordinates': [[[-6.592415, 52.708085],\n",
       "    [-6.614788, 52.654218],\n",
       "    [-6.71789, 52.633128],\n",
       "    [-6.810019, 52.481218],\n",
       "    [-6.916185, 52.446304],\n",
       "    [-6.914688, 52.590519],\n",
       "    [-6.975609, 52.653791],\n",
       "    [-6.952951, 52.705377],\n",
       "    [-7.090468, 52.732311],\n",
       "    [-7.072441, 52.797934],\n",
       "    [-7.065957, 52.822872],\n",
       "    [-6.915828, 52.856717],\n",
       "    [-6.735489, 52.884007],\n",
       "    [-6.712332, 52.924335],\n",
       "    [-6.463234, 52.893982],\n",
       "    [-6.51247, 52.826791],\n",
       "    [-6.631176, 52.831494],\n",
       "    [-6.592415, 52.708085]]],\n",
       "  'type': 'Polygon'},\n",
       " 'properties': {'id': 'Carlow'},\n",
       " 'type': 'Feature'}"
      ]
     },
     "execution_count": 238,
     "metadata": {},
     "output_type": "execute_result"
    }
   ],
   "source": [
    "geo_data['features'][0]"
   ]
  },
  {
   "cell_type": "markdown",
   "metadata": {},
   "source": [
    "Fix the format of the geojson, we need County name to be Extracted Properties and added as id"
   ]
  },
  {
   "cell_type": "code",
   "execution_count": 239,
   "metadata": {},
   "outputs": [],
   "source": [
    "for county in geo_data['features']:\n",
    "    county['id'] = county['properties']['id']"
   ]
  },
  {
   "cell_type": "code",
   "execution_count": 240,
   "metadata": {},
   "outputs": [
    {
     "data": {
      "text/plain": [
       "{'geometry': {'coordinates': [[[-6.592415, 52.708085],\n",
       "    [-6.614788, 52.654218],\n",
       "    [-6.71789, 52.633128],\n",
       "    [-6.810019, 52.481218],\n",
       "    [-6.916185, 52.446304],\n",
       "    [-6.914688, 52.590519],\n",
       "    [-6.975609, 52.653791],\n",
       "    [-6.952951, 52.705377],\n",
       "    [-7.090468, 52.732311],\n",
       "    [-7.072441, 52.797934],\n",
       "    [-7.065957, 52.822872],\n",
       "    [-6.915828, 52.856717],\n",
       "    [-6.735489, 52.884007],\n",
       "    [-6.712332, 52.924335],\n",
       "    [-6.463234, 52.893982],\n",
       "    [-6.51247, 52.826791],\n",
       "    [-6.631176, 52.831494],\n",
       "    [-6.592415, 52.708085]]],\n",
       "  'type': 'Polygon'},\n",
       " 'id': 'Carlow',\n",
       " 'properties': {'id': 'Carlow'},\n",
       " 'type': 'Feature'}"
      ]
     },
     "execution_count": 240,
     "metadata": {},
     "output_type": "execute_result"
    }
   ],
   "source": [
    "geo_data['features'][0]"
   ]
  },
  {
   "cell_type": "code",
   "execution_count": 241,
   "metadata": {},
   "outputs": [],
   "source": [
    "geo_data = json.dumps(geo_data)"
   ]
  },
  {
   "cell_type": "markdown",
   "metadata": {},
   "source": [
    "### 2. Creating style dictionary"
   ]
  },
  {
   "cell_type": "markdown",
   "metadata": {},
   "source": [
    "Style dictionary should be of following format:\n",
    "    \n",
    "    styledict = {\n",
    "    '0': {\n",
    "        '2017-1-1': {'color': 'ffffff', 'opacity': 1}\n",
    "        '2017-1-2': {'color': 'fffff0', 'opacity': 1}\n",
    "        ...\n",
    "        },\n",
    "    ...,\n",
    "    'n': {\n",
    "        '2017-1-1': {'color': 'ffffff', 'opacity': 1}\n",
    "        '2017-1-2': {'color': 'fffff0', 'opacity': 1}\n",
    "        ...\n",
    "        }\n",
    "    \n",
    "where 0...n will be the Counties name.\n",
    "Each county will consist of data points for each month. Months will be stored as date using first day of month e.g. 2019-1-1.\n",
    "Color will represent quantitive value of avg property price.\n"
   ]
  },
  {
   "cell_type": "code",
   "execution_count": 380,
   "metadata": {},
   "outputs": [],
   "source": [
    "data = data_agg[['County', 'year', 'month', 'mean']].copy()"
   ]
  },
  {
   "cell_type": "code",
   "execution_count": 381,
   "metadata": {},
   "outputs": [
    {
     "data": {
      "text/plain": [
       "Index(['County', 'year', 'month', 'mean'], dtype='object')"
      ]
     },
     "execution_count": 381,
     "metadata": {},
     "output_type": "execute_result"
    }
   ],
   "source": [
    "data.columns"
   ]
  },
  {
   "cell_type": "code",
   "execution_count": 388,
   "metadata": {},
   "outputs": [],
   "source": [
    "# Utility module for dealing with colormaps.\n",
    "from branca.colormap import linear\n",
    "cmap = linear.PuRd_09.scale(data['mean'].min(), data['mean'].max()/5)"
   ]
  },
  {
   "cell_type": "code",
   "execution_count": 389,
   "metadata": {},
   "outputs": [
    {
     "data": {
      "text/plain": [
       "(20000.0, 1962419.7233333334)"
      ]
     },
     "execution_count": 389,
     "metadata": {},
     "output_type": "execute_result"
    }
   ],
   "source": [
    "data['mean'].min(), data['mean'].max()"
   ]
  },
  {
   "cell_type": "markdown",
   "metadata": {},
   "source": [
    "add color mapping representing value of avg price"
   ]
  },
  {
   "cell_type": "code",
   "execution_count": 358,
   "metadata": {},
   "outputs": [],
   "source": [
    "#data['color'] = data['mean'].apply(cmap)"
   ]
  },
  {
   "cell_type": "markdown",
   "metadata": {},
   "source": [
    "check color values"
   ]
  },
  {
   "cell_type": "code",
   "execution_count": 390,
   "metadata": {},
   "outputs": [],
   "source": [
    "def norm(x):\n",
    "    return (x - x.min()) / (x.max() - x.min())"
   ]
  },
  {
   "cell_type": "markdown",
   "metadata": {},
   "source": [
    "Create style data dictionary"
   ]
  },
  {
   "cell_type": "code",
   "execution_count": 391,
   "metadata": {},
   "outputs": [
    {
     "name": "stderr",
     "output_type": "stream",
     "text": [
      "/home/magda/venv/pyvenv3/lib/python3.6/site-packages/ipykernel_launcher.py:6: SettingWithCopyWarning: \n",
      "A value is trying to be set on a copy of a slice from a DataFrame.\n",
      "Try using .loc[row_indexer,col_indexer] = value instead\n",
      "\n",
      "See the caveats in the documentation: http://pandas.pydata.org/pandas-docs/stable/indexing.html#indexing-view-versus-copy\n",
      "  \n",
      "/home/magda/venv/pyvenv3/lib/python3.6/site-packages/ipykernel_launcher.py:7: SettingWithCopyWarning: \n",
      "A value is trying to be set on a copy of a slice from a DataFrame.\n",
      "Try using .loc[row_indexer,col_indexer] = value instead\n",
      "\n",
      "See the caveats in the documentation: http://pandas.pydata.org/pandas-docs/stable/indexing.html#indexing-view-versus-copy\n",
      "  import sys\n",
      "/home/magda/venv/pyvenv3/lib/python3.6/site-packages/ipykernel_launcher.py:10: SettingWithCopyWarning: \n",
      "A value is trying to be set on a copy of a slice from a DataFrame.\n",
      "Try using .loc[row_indexer,col_indexer] = value instead\n",
      "\n",
      "See the caveats in the documentation: http://pandas.pydata.org/pandas-docs/stable/indexing.html#indexing-view-versus-copy\n",
      "  # Remove the CWD from sys.path while we load stuff.\n",
      "/home/magda/venv/pyvenv3/lib/python3.6/site-packages/ipykernel_launcher.py:11: SettingWithCopyWarning: \n",
      "A value is trying to be set on a copy of a slice from a DataFrame.\n",
      "Try using .loc[row_indexer,col_indexer] = value instead\n",
      "\n",
      "See the caveats in the documentation: http://pandas.pydata.org/pandas-docs/stable/indexing.html#indexing-view-versus-copy\n",
      "  # This is added back by InteractiveShellApp.init_path()\n"
     ]
    }
   ],
   "source": [
    "styledata = {}\n",
    "#iterate through counties\n",
    "for county in data['County'].unique():\n",
    "    county_data = data[data['County'] == county]\n",
    "    #define the 1st day of the month as epoch start and store it in proper format\n",
    "    county_data['epoch'] = county_data.apply(lambda x : int(datetime.datetime(x['year'], x['month'], 1).timestamp()), axis=1)\n",
    "    county_data['epoch']= county_data['epoch'].astype('U10')\n",
    "    #use 0.8 as default opacity\n",
    "    #county_data['opacity'] = norm(county_data['mean'])\n",
    "    county_data['opacity'] = 0.8\n",
    "    county_data['color'] = county_data['mean'].apply(cmap)\n",
    "    county_data = county_data[['epoch', 'color', 'opacity']]\n",
    "    county_data.set_index('epoch',inplace=True)\n",
    "    styledata[county] = county_data"
   ]
  },
  {
   "cell_type": "code",
   "execution_count": 392,
   "metadata": {},
   "outputs": [
    {
     "data": {
      "text/html": [
       "<div>\n",
       "<style scoped>\n",
       "    .dataframe tbody tr th:only-of-type {\n",
       "        vertical-align: middle;\n",
       "    }\n",
       "\n",
       "    .dataframe tbody tr th {\n",
       "        vertical-align: top;\n",
       "    }\n",
       "\n",
       "    .dataframe thead th {\n",
       "        text-align: right;\n",
       "    }\n",
       "</style>\n",
       "<table border=\"1\" class=\"dataframe\">\n",
       "  <thead>\n",
       "    <tr style=\"text-align: right;\">\n",
       "      <th></th>\n",
       "      <th>color</th>\n",
       "      <th>opacity</th>\n",
       "    </tr>\n",
       "    <tr>\n",
       "      <th>epoch</th>\n",
       "      <th></th>\n",
       "      <th></th>\n",
       "    </tr>\n",
       "  </thead>\n",
       "  <tbody>\n",
       "    <tr>\n",
       "      <th>1262300400</th>\n",
       "      <td>#df66b1</td>\n",
       "      <td>0.8</td>\n",
       "    </tr>\n",
       "    <tr>\n",
       "      <th>1264978800</th>\n",
       "      <td>#cb9bcb</td>\n",
       "      <td>0.8</td>\n",
       "    </tr>\n",
       "    <tr>\n",
       "      <th>1267398000</th>\n",
       "      <td>#cda0cd</td>\n",
       "      <td>0.8</td>\n",
       "    </tr>\n",
       "    <tr>\n",
       "      <th>1270072800</th>\n",
       "      <td>#df217a</td>\n",
       "      <td>0.8</td>\n",
       "    </tr>\n",
       "    <tr>\n",
       "      <th>1272664800</th>\n",
       "      <td>#ca92c6</td>\n",
       "      <td>0.8</td>\n",
       "    </tr>\n",
       "  </tbody>\n",
       "</table>\n",
       "</div>"
      ],
      "text/plain": [
       "              color  opacity\n",
       "epoch                       \n",
       "1262300400  #df66b1      0.8\n",
       "1264978800  #cb9bcb      0.8\n",
       "1267398000  #cda0cd      0.8\n",
       "1270072800  #df217a      0.8\n",
       "1272664800  #ca92c6      0.8"
      ]
     },
     "execution_count": 392,
     "metadata": {},
     "output_type": "execute_result"
    }
   ],
   "source": [
    "styledata['Carlow'].head()"
   ]
  },
  {
   "cell_type": "code",
   "execution_count": 393,
   "metadata": {},
   "outputs": [],
   "source": [
    "styledict = {\n",
    "    str(country): data.to_dict(orient='index') for\n",
    "    country, data in styledata.items()\n",
    "}"
   ]
  },
  {
   "cell_type": "code",
   "execution_count": 394,
   "metadata": {},
   "outputs": [],
   "source": [
    "from folium.plugins import TimeSliderChoropleth\n",
    "#tiles='Stamen Toner',\n",
    "m = folium.Map(location=[53.305494, -7.737649],  zoom_start=7)\n",
    "\n",
    "g = TimeSliderChoropleth(\n",
    "    geo_data,\n",
    "    styledict=styledict,\n",
    "    name='Avg property price'\n",
    "\n",
    ").add_to(m)\n",
    "\n",
    "m.save(os.path.join('results', 'TimeSliderChoropleth.html'))"
   ]
  }
 ],
 "metadata": {
  "kernelspec": {
   "display_name": "Python 3",
   "language": "python",
   "name": "python3"
  },
  "language_info": {
   "codemirror_mode": {
    "name": "ipython",
    "version": 3
   },
   "file_extension": ".py",
   "mimetype": "text/x-python",
   "name": "python",
   "nbconvert_exporter": "python",
   "pygments_lexer": "ipython3",
   "version": "3.6.6"
  }
 },
 "nbformat": 4,
 "nbformat_minor": 2
}
